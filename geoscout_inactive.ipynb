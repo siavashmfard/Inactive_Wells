{
 "cells": [
  {
   "cell_type": "code",
   "execution_count": 1,
   "metadata": {},
   "outputs": [],
   "source": [
    "import pandas as pd\n",
    "import numpy as np\n",
    "import matplotlib.pyplot as plt\n",
    "import folium\n",
    "import sklearn.metrics\n",
    "import json\n",
    "from folium import plugins\n",
    "from sklearn.metrics import f1_score\n",
    "from sklearn.preprocessing import LabelEncoder\n",
    "from sklearn.neighbors import KNeighborsClassifier\n",
    "from sklearn import metrics\n",
    "from sklearn.tree import DecisionTreeClassifier\n",
    "from sklearn import svm\n",
    "from sklearn.metrics import log_loss\n",
    "from sklearn.metrics import classification_report, confusion_matrix\n",
    "import seaborn as sns\n",
    "from sklearn.metrics import jaccard_score"
   ]
  },
  {
   "cell_type": "markdown",
   "metadata": {},
   "source": [
    "The data from geoSCOUT has been partially cleaned and unnecessary columns have been deleted to speed up the process. Let's import the dataset and see how it looks like."
   ]
  },
  {
   "cell_type": "code",
   "execution_count": 2,
   "metadata": {
    "scrolled": true
   },
   "outputs": [
    {
     "name": "stderr",
     "output_type": "stream",
     "text": [
      "C:\\Users\\siava\\Anaconda3\\lib\\site-packages\\IPython\\core\\interactiveshell.py:3063: DtypeWarning: Columns (6,43) have mixed types.Specify dtype option on import or set low_memory=False.\n",
      "  interactivity=interactivity, compiler=compiler, result=result)\n"
     ]
    },
    {
     "data": {
      "text/html": [
       "<div>\n",
       "<style scoped>\n",
       "    .dataframe tbody tr th:only-of-type {\n",
       "        vertical-align: middle;\n",
       "    }\n",
       "\n",
       "    .dataframe tbody tr th {\n",
       "        vertical-align: top;\n",
       "    }\n",
       "\n",
       "    .dataframe thead th {\n",
       "        text-align: right;\n",
       "    }\n",
       "</style>\n",
       "<table border=\"1\" class=\"dataframe\">\n",
       "  <thead>\n",
       "    <tr style=\"text-align: right;\">\n",
       "      <th></th>\n",
       "      <th>Abbreviated Well ID</th>\n",
       "      <th>User-Format Well ID</th>\n",
       "      <th>Area</th>\n",
       "      <th>Well Status Text</th>\n",
       "      <th>Org Operator Name</th>\n",
       "      <th>Cur Operator Name</th>\n",
       "      <th>Lic/WA/WID/Permit #</th>\n",
       "      <th>Date Well Licensed</th>\n",
       "      <th>Date Well Spudded</th>\n",
       "      <th>Date Drlg Completed</th>\n",
       "      <th>...</th>\n",
       "      <th>Last Inject. YYYY/MM</th>\n",
       "      <th>Cumulative GAS Inject. (e3m3)</th>\n",
       "      <th>Cumulative WTR Inject. (m3)</th>\n",
       "      <th>Cumulative Steam Inject. (m3)</th>\n",
       "      <th>Total Production Hrs</th>\n",
       "      <th>First 12 mo. Hrs On</th>\n",
       "      <th>Last 12 mo. Hrs On</th>\n",
       "      <th>Most Recent 12 mo. Hrs On</th>\n",
       "      <th>CPA Pretty Well ID (Long)</th>\n",
       "      <th>CPA Well ID (Long)</th>\n",
       "    </tr>\n",
       "  </thead>\n",
       "  <tbody>\n",
       "    <tr>\n",
       "      <th>0</th>\n",
       "      <td>F1/06-06-001-01W4/0</td>\n",
       "      <td>1F1/06-06-001-01W4/00</td>\n",
       "      <td>AB</td>\n",
       "      <td>Act WTR Farm</td>\n",
       "      <td>Domestic Water Well</td>\n",
       "      <td>Domestic Water Well</td>\n",
       "      <td>78503</td>\n",
       "      <td>1979-10-09</td>\n",
       "      <td>1977-08-20</td>\n",
       "      <td>1977-08-20</td>\n",
       "      <td>...</td>\n",
       "      <td>NaN</td>\n",
       "      <td>NaN</td>\n",
       "      <td>NaN</td>\n",
       "      <td>NaN</td>\n",
       "      <td>NaN</td>\n",
       "      <td>NaN</td>\n",
       "      <td>NaN</td>\n",
       "      <td>NaN</td>\n",
       "      <td>1F1/06-06-001-01W4/00</td>\n",
       "      <td>1F1060600101W400</td>\n",
       "    </tr>\n",
       "    <tr>\n",
       "      <th>1</th>\n",
       "      <td>F1/05-10-001-01W4/0</td>\n",
       "      <td>1F1/05-10-001-01W4/00</td>\n",
       "      <td>AB</td>\n",
       "      <td>Act WTR Farm</td>\n",
       "      <td>Border Grazing Co-Op Ltd</td>\n",
       "      <td>Wildhorse Grazing Ltd</td>\n",
       "      <td>107524</td>\n",
       "      <td>1984-06-07</td>\n",
       "      <td>1984-06-15</td>\n",
       "      <td>1984-06-24</td>\n",
       "      <td>...</td>\n",
       "      <td>NaN</td>\n",
       "      <td>NaN</td>\n",
       "      <td>NaN</td>\n",
       "      <td>NaN</td>\n",
       "      <td>NaN</td>\n",
       "      <td>NaN</td>\n",
       "      <td>NaN</td>\n",
       "      <td>NaN</td>\n",
       "      <td>1F1/05-10-001-01W4/00</td>\n",
       "      <td>1F1051000101W400</td>\n",
       "    </tr>\n",
       "    <tr>\n",
       "      <th>2</th>\n",
       "      <td>F1/06-17-001-01W4/0</td>\n",
       "      <td>1F1/06-17-001-01W4/00</td>\n",
       "      <td>AB</td>\n",
       "      <td>Act WTR Farm</td>\n",
       "      <td>Domestic Water Well</td>\n",
       "      <td>Domestic Water Well</td>\n",
       "      <td>78504</td>\n",
       "      <td>1979-10-09</td>\n",
       "      <td>1977-08-24</td>\n",
       "      <td>1977-08-24</td>\n",
       "      <td>...</td>\n",
       "      <td>NaN</td>\n",
       "      <td>NaN</td>\n",
       "      <td>NaN</td>\n",
       "      <td>NaN</td>\n",
       "      <td>NaN</td>\n",
       "      <td>NaN</td>\n",
       "      <td>NaN</td>\n",
       "      <td>NaN</td>\n",
       "      <td>1F1/06-17-001-01W4/00</td>\n",
       "      <td>1F1061700101W400</td>\n",
       "    </tr>\n",
       "    <tr>\n",
       "      <th>3</th>\n",
       "      <td>F1/01-31-001-01W4/0</td>\n",
       "      <td>1F1/01-31-001-01W4/00</td>\n",
       "      <td>AB</td>\n",
       "      <td>Act WTR Farm</td>\n",
       "      <td>Domestic Water Well</td>\n",
       "      <td>Domestic Water Well</td>\n",
       "      <td>29205</td>\n",
       "      <td>1965-10-22</td>\n",
       "      <td>1965-10-22</td>\n",
       "      <td>1965-10-22</td>\n",
       "      <td>...</td>\n",
       "      <td>NaN</td>\n",
       "      <td>NaN</td>\n",
       "      <td>NaN</td>\n",
       "      <td>NaN</td>\n",
       "      <td>NaN</td>\n",
       "      <td>NaN</td>\n",
       "      <td>NaN</td>\n",
       "      <td>NaN</td>\n",
       "      <td>1F1/01-31-001-01W4/00</td>\n",
       "      <td>1F1013100101W400</td>\n",
       "    </tr>\n",
       "    <tr>\n",
       "      <th>4</th>\n",
       "      <td>F1/06-31-001-01W4/0</td>\n",
       "      <td>1F1/06-31-001-01W4/00</td>\n",
       "      <td>AB</td>\n",
       "      <td>Act WTR Farm</td>\n",
       "      <td>Domestic Water Well</td>\n",
       "      <td>Domestic Water Well</td>\n",
       "      <td>74448</td>\n",
       "      <td>1979-02-13</td>\n",
       "      <td>1977-12-03</td>\n",
       "      <td>1977-12-03</td>\n",
       "      <td>...</td>\n",
       "      <td>NaN</td>\n",
       "      <td>NaN</td>\n",
       "      <td>NaN</td>\n",
       "      <td>NaN</td>\n",
       "      <td>NaN</td>\n",
       "      <td>NaN</td>\n",
       "      <td>NaN</td>\n",
       "      <td>NaN</td>\n",
       "      <td>1F1/06-31-001-01W4/00</td>\n",
       "      <td>1F1063100101W400</td>\n",
       "    </tr>\n",
       "  </tbody>\n",
       "</table>\n",
       "<p>5 rows × 103 columns</p>\n",
       "</div>"
      ],
      "text/plain": [
       "   Abbreviated Well ID    User-Format Well ID Area Well Status Text  \\\n",
       "0  F1/06-06-001-01W4/0  1F1/06-06-001-01W4/00   AB     Act WTR Farm   \n",
       "1  F1/05-10-001-01W4/0  1F1/05-10-001-01W4/00   AB     Act WTR Farm   \n",
       "2  F1/06-17-001-01W4/0  1F1/06-17-001-01W4/00   AB     Act WTR Farm   \n",
       "3  F1/01-31-001-01W4/0  1F1/01-31-001-01W4/00   AB     Act WTR Farm   \n",
       "4  F1/06-31-001-01W4/0  1F1/06-31-001-01W4/00   AB     Act WTR Farm   \n",
       "\n",
       "          Org Operator Name      Cur Operator Name Lic/WA/WID/Permit #  \\\n",
       "0       Domestic Water Well    Domestic Water Well               78503   \n",
       "1  Border Grazing Co-Op Ltd  Wildhorse Grazing Ltd              107524   \n",
       "2       Domestic Water Well    Domestic Water Well               78504   \n",
       "3       Domestic Water Well    Domestic Water Well               29205   \n",
       "4       Domestic Water Well    Domestic Water Well               74448   \n",
       "\n",
       "  Date Well Licensed Date Well Spudded Date Drlg Completed  ...  \\\n",
       "0         1979-10-09        1977-08-20          1977-08-20  ...   \n",
       "1         1984-06-07        1984-06-15          1984-06-24  ...   \n",
       "2         1979-10-09        1977-08-24          1977-08-24  ...   \n",
       "3         1965-10-22        1965-10-22          1965-10-22  ...   \n",
       "4         1979-02-13        1977-12-03          1977-12-03  ...   \n",
       "\n",
       "  Last Inject. YYYY/MM  Cumulative GAS Inject. (e3m3)  \\\n",
       "0                  NaN                            NaN   \n",
       "1                  NaN                            NaN   \n",
       "2                  NaN                            NaN   \n",
       "3                  NaN                            NaN   \n",
       "4                  NaN                            NaN   \n",
       "\n",
       "  Cumulative WTR Inject. (m3)  Cumulative Steam Inject. (m3)  \\\n",
       "0                         NaN                            NaN   \n",
       "1                         NaN                            NaN   \n",
       "2                         NaN                            NaN   \n",
       "3                         NaN                            NaN   \n",
       "4                         NaN                            NaN   \n",
       "\n",
       "   Total Production Hrs  First 12 mo. Hrs On  Last 12 mo. Hrs On  \\\n",
       "0                   NaN                  NaN                 NaN   \n",
       "1                   NaN                  NaN                 NaN   \n",
       "2                   NaN                  NaN                 NaN   \n",
       "3                   NaN                  NaN                 NaN   \n",
       "4                   NaN                  NaN                 NaN   \n",
       "\n",
       "   Most Recent 12 mo. Hrs On CPA Pretty Well ID (Long) CPA Well ID (Long)  \n",
       "0                        NaN     1F1/06-06-001-01W4/00   1F1060600101W400  \n",
       "1                        NaN     1F1/05-10-001-01W4/00   1F1051000101W400  \n",
       "2                        NaN     1F1/06-17-001-01W4/00   1F1061700101W400  \n",
       "3                        NaN     1F1/01-31-001-01W4/00   1F1013100101W400  \n",
       "4                        NaN     1F1/06-31-001-01W4/00   1F1063100101W400  \n",
       "\n",
       "[5 rows x 103 columns]"
      ]
     },
     "execution_count": 2,
     "metadata": {},
     "output_type": "execute_result"
    }
   ],
   "source": [
    "file = \"geoscout_inactive.csv\"\n",
    "data = pd.read_csv(file, encoding='ISO-8859-1')\n",
    "data.head()"
   ]
  },
  {
   "cell_type": "markdown",
   "metadata": {},
   "source": [
    "The dataset contains 103 columns. With another glance at the dataset, we only keep relevant columns. "
   ]
  },
  {
   "cell_type": "code",
   "execution_count": 3,
   "metadata": {},
   "outputs": [],
   "source": [
    "geoscout_data = data[['Abbreviated Well ID','TVD (m)','Formation@TD','Govt Surf. Loc.','Production-Casing Depth (m)',\n",
    "                      'Production-Casing Size (mm)','Rm','BH Temp. (degC)','Drilling Problems','Prod./Inject. Frmtn','Prod Status Text','Producing Field/Area Name',\n",
    "                      'First Prod YYYY/MM','Last Prod. YYYY/MM','Cumulative GAS Prod. (e3m3)','Cumulative OIL Prod. (m3)','Cumulative CND Prod. (m3)',\n",
    "                      'Cumulative WTR Prod. (m3)', 'Cumulative BOE Prod. (Bbl)','First 12 mo. Total GAS (e3m3)',\n",
    "                      'First 12 mo. Total OIL (m3)','First 12 mo. Total CND (m3)','First 12 mo. Total WTR (m3)','First 12 mo. Total BOE (Bbl)',\n",
    "                      'First 12 mo. Dly Avg. GAS (e3m3)','First 12 mo. Dly Avg. OIL (m3)','First 12 mo. Dly Avg. CND (m3)','First 12 mo. Dly Avg. WTR (m3)',\n",
    "                      'First 12 mo. Dly Avg. BOE (Bbl)','First 12 mo. Ave GOR (m3/m3)','First 12 mo. Ave WC%','Last 12 mo. Total GAS (e3m3)','Last 12 mo. Total OIL (m3)',\n",
    "                      'Last 12 mo. Total CND (m3)','Last 12 mo. Total WTR (m3)','Last 12 mo. Total BOE (Bbl)','Last 12 mo. Dly Avg. GAS (e3m3)',\n",
    "                      'Last 12 mo. Dly Avg. OIL (m3)','Last 12 mo. Dly Avg. CND (m3)','Last 12 mo. Dly Avg. WTR (m3)','Last 12 mo. Dly Avg. BOE (Bbl)',\n",
    "                      'Last 12 mo. Ave GOR (m3/m3)','Last 12 mo. Ave WC%','Most Recent 12 mo. Total GAS (e3m3)','Most Recent 12 mo. Total OIL (m3)',\n",
    "                      'Most Recent 12 mo. Total CND (m3)','Most Recent 12 mo. Total WTR (m3)','Most Recent 12 mo. Total BOE (Bbl)',\n",
    "                      'Most Recent 12 mo. Dly Avg. GAS (e3m3)','Most Recent 12 mo. Dly Avg. OIL (m3)','Most Recent 12 mo. Dly Avg. CND (m3)',\n",
    "                      'Most Recent 12 mo. Dly Avg. WTR (m3)','Most Recent 12 mo. Dly Avg. BOE (Bbl)','Most Recent 12 mo. Ave GOR (m3/m3)']]"
   ]
  },
  {
   "cell_type": "code",
   "execution_count": 4,
   "metadata": {},
   "outputs": [
    {
     "data": {
      "text/plain": [
       "(94968, 54)"
      ]
     },
     "execution_count": 4,
     "metadata": {},
     "output_type": "execute_result"
    }
   ],
   "source": [
    "geoscout_data.shape                        "
   ]
  },
  {
   "cell_type": "markdown",
   "metadata": {},
   "source": [
    "Importing the inactive well data downloaded from AER website and keeping columns with necessary info. "
   ]
  },
  {
   "cell_type": "code",
   "execution_count": 5,
   "metadata": {},
   "outputs": [
    {
     "name": "stderr",
     "output_type": "stream",
     "text": [
      "C:\\Users\\siava\\Anaconda3\\lib\\site-packages\\IPython\\core\\interactiveshell.py:3063: DtypeWarning: Columns (1) have mixed types.Specify dtype option on import or set low_memory=False.\n",
      "  interactivity=interactivity, compiler=compiler, result=result)\n"
     ]
    },
    {
     "data": {
      "text/html": [
       "<div>\n",
       "<style scoped>\n",
       "    .dataframe tbody tr th:only-of-type {\n",
       "        vertical-align: middle;\n",
       "    }\n",
       "\n",
       "    .dataframe tbody tr th {\n",
       "        vertical-align: top;\n",
       "    }\n",
       "\n",
       "    .dataframe thead th {\n",
       "        text-align: right;\n",
       "    }\n",
       "</style>\n",
       "<table border=\"1\" class=\"dataframe\">\n",
       "  <thead>\n",
       "    <tr style=\"text-align: right;\">\n",
       "      <th></th>\n",
       "      <th>COMPANY</th>\n",
       "      <th>UWI</th>\n",
       "      <th>LSD</th>\n",
       "      <th>LICENSE_STATUS</th>\n",
       "      <th>FINAL_DRILL_DATE</th>\n",
       "      <th>LAST_ACTIVITY_DATE</th>\n",
       "      <th>INACTIVE_STATUS_DATE</th>\n",
       "      <th>SUSPENSION_DATE</th>\n",
       "      <th>INSPECTION_DATE</th>\n",
       "      <th>WELL_TYPE</th>\n",
       "      <th>AER_RISK_CLASS</th>\n",
       "      <th>MEDIUM_RISK_TYPE_6</th>\n",
       "      <th>COMPLIANCE</th>\n",
       "    </tr>\n",
       "  </thead>\n",
       "  <tbody>\n",
       "    <tr>\n",
       "      <th>0</th>\n",
       "      <td>ACCEL Canada Holdings Limited</td>\n",
       "      <td>00/08-17-057-21W4/0</td>\n",
       "      <td>8-17-57-21W4</td>\n",
       "      <td>Suspension</td>\n",
       "      <td>29-Jun-1949</td>\n",
       "      <td>31-May-1990</td>\n",
       "      <td>31-May-1991</td>\n",
       "      <td>31-May-1991</td>\n",
       "      <td>10-Sep-2017</td>\n",
       "      <td>Suspended greater than 10 years</td>\n",
       "      <td>Medium</td>\n",
       "      <td>Yes</td>\n",
       "      <td>Compliant</td>\n",
       "    </tr>\n",
       "    <tr>\n",
       "      <th>1</th>\n",
       "      <td>ACCEL Canada Holdings Limited</td>\n",
       "      <td>00/13-32-057-21W4/0</td>\n",
       "      <td>13-32-57-21W4</td>\n",
       "      <td>Suspension</td>\n",
       "      <td>29-Jun-1949</td>\n",
       "      <td>30-Sep-2015</td>\n",
       "      <td>30-Sep-2016</td>\n",
       "      <td>26-Jul-2016</td>\n",
       "      <td>29-Oct-2019</td>\n",
       "      <td>Non-flowing Oil Wells with an H2S content &lt; 50...</td>\n",
       "      <td>Low</td>\n",
       "      <td>No</td>\n",
       "      <td>Compliant</td>\n",
       "    </tr>\n",
       "    <tr>\n",
       "      <th>2</th>\n",
       "      <td>ACCEL Canada Holdings Limited</td>\n",
       "      <td>00/02-20-057-21W4/0</td>\n",
       "      <td>2-20-57-21W4</td>\n",
       "      <td>Suspension</td>\n",
       "      <td>01-Jul-1949</td>\n",
       "      <td>30-Sep-2004</td>\n",
       "      <td>30-Sep-2005</td>\n",
       "      <td>30-Sep-2005</td>\n",
       "      <td>23-Sep-2015</td>\n",
       "      <td>Suspended greater than 10 years</td>\n",
       "      <td>Medium</td>\n",
       "      <td>Yes</td>\n",
       "      <td>Compliant</td>\n",
       "    </tr>\n",
       "    <tr>\n",
       "      <th>3</th>\n",
       "      <td>Benson, Keith And Jessie</td>\n",
       "      <td>02/03-16-017-13W4/0</td>\n",
       "      <td>3-16-17-13W4</td>\n",
       "      <td>Issued</td>\n",
       "      <td>20-Jun-1949</td>\n",
       "      <td>NaN</td>\n",
       "      <td>30-Jun-1950</td>\n",
       "      <td>NaN</td>\n",
       "      <td>NaN</td>\n",
       "      <td></td>\n",
       "      <td>Medium</td>\n",
       "      <td>Yes</td>\n",
       "      <td>NaN</td>\n",
       "    </tr>\n",
       "    <tr>\n",
       "      <th>4</th>\n",
       "      <td>NEP Canada ULC</td>\n",
       "      <td>00/16-08-050-26W4/2</td>\n",
       "      <td>16-8-50-26W4</td>\n",
       "      <td>Suspension</td>\n",
       "      <td>17-Jul-1949</td>\n",
       "      <td>30-Apr-2013</td>\n",
       "      <td>30-Apr-2014</td>\n",
       "      <td>19-Oct-2015</td>\n",
       "      <td>01-Nov-2019</td>\n",
       "      <td>Non-flowing Oil Wells with an H2S content &lt; 50...</td>\n",
       "      <td>Low</td>\n",
       "      <td>No</td>\n",
       "      <td>Compliant</td>\n",
       "    </tr>\n",
       "  </tbody>\n",
       "</table>\n",
       "</div>"
      ],
      "text/plain": [
       "                         COMPANY                  UWI            LSD  \\\n",
       "0  ACCEL Canada Holdings Limited  00/08-17-057-21W4/0   8-17-57-21W4   \n",
       "1  ACCEL Canada Holdings Limited  00/13-32-057-21W4/0  13-32-57-21W4   \n",
       "2  ACCEL Canada Holdings Limited  00/02-20-057-21W4/0   2-20-57-21W4   \n",
       "3       Benson, Keith And Jessie  02/03-16-017-13W4/0   3-16-17-13W4   \n",
       "4                 NEP Canada ULC  00/16-08-050-26W4/2   16-8-50-26W4   \n",
       "\n",
       "  LICENSE_STATUS FINAL_DRILL_DATE LAST_ACTIVITY_DATE INACTIVE_STATUS_DATE  \\\n",
       "0     Suspension      29-Jun-1949        31-May-1990          31-May-1991   \n",
       "1     Suspension      29-Jun-1949        30-Sep-2015          30-Sep-2016   \n",
       "2     Suspension      01-Jul-1949        30-Sep-2004          30-Sep-2005   \n",
       "3         Issued      20-Jun-1949                NaN          30-Jun-1950   \n",
       "4     Suspension      17-Jul-1949        30-Apr-2013          30-Apr-2014   \n",
       "\n",
       "  SUSPENSION_DATE INSPECTION_DATE  \\\n",
       "0     31-May-1991     10-Sep-2017   \n",
       "1     26-Jul-2016     29-Oct-2019   \n",
       "2     30-Sep-2005     23-Sep-2015   \n",
       "3             NaN             NaN   \n",
       "4     19-Oct-2015     01-Nov-2019   \n",
       "\n",
       "                                           WELL_TYPE AER_RISK_CLASS  \\\n",
       "0                    Suspended greater than 10 years         Medium   \n",
       "1  Non-flowing Oil Wells with an H2S content < 50...            Low   \n",
       "2                    Suspended greater than 10 years         Medium   \n",
       "3                                                            Medium   \n",
       "4  Non-flowing Oil Wells with an H2S content < 50...            Low   \n",
       "\n",
       "  MEDIUM_RISK_TYPE_6 COMPLIANCE  \n",
       "0                Yes  Compliant  \n",
       "1                 No  Compliant  \n",
       "2                Yes  Compliant  \n",
       "3                Yes        NaN  \n",
       "4                 No  Compliant  "
      ]
     },
     "execution_count": 5,
     "metadata": {},
     "output_type": "execute_result"
    }
   ],
   "source": [
    "file = \"AER_inactive.csv\"\n",
    "data = pd.read_csv(file, encoding='ISO-8859-1', header = None)\n",
    "data.drop([0,1,2],axis = 0, inplace = True) # dropping the first row in order to assign new header\n",
    "header_inactive = ['0','LICENSE_NO','COMPANY','UWI','LSD','FIELD_AREA','LICENSE_STATUS','FINAL_DRILL_DATE','LAST_ACTIVITY_DATE','INACTIVE_STATUS_DATE','SUSPENSION_DATE','INSPECTION_DATE','NEXT_INSPECTION_DATE','DOWNHOLE_OPERATION','WELL_TYPE','AER_RISK_CLASS','MEDIUM_RISK_TYPE_6','COMPLIANCE','NON_COMPLAINCE_DETAIL','IWCP','EXCLUSION_REASON']\n",
    "\n",
    "data.columns = header_inactive\n",
    "data_inactive = data[['COMPANY','UWI','LSD','LICENSE_STATUS','FINAL_DRILL_DATE','LAST_ACTIVITY_DATE','INACTIVE_STATUS_DATE','SUSPENSION_DATE','INSPECTION_DATE','WELL_TYPE','AER_RISK_CLASS','MEDIUM_RISK_TYPE_6','COMPLIANCE']].reset_index(drop = True)\n",
    "data_inactive.head()\n",
    "# data_inactive.to_csv('AER_inactive.csv')"
   ]
  },
  {
   "cell_type": "markdown",
   "metadata": {},
   "source": [
    "According to AER Directive 13, if a well is suspended more than 10 years, it will be categorized as 'Medium' risk. As a result, we remove those wells (as well 'Not Reported' risk class) from our dataset (type 6 wells). After removing type 6 wells, our dataset contains 53060 wells out which 5338 are 'Medium' and 125 'High' risk."
   ]
  },
  {
   "cell_type": "code",
   "execution_count": 6,
   "metadata": {},
   "outputs": [],
   "source": [
    "data_inactive = data_inactive[(data_inactive['MEDIUM_RISK_TYPE_6'] == 'No') & (data_inactive['AER_RISK_CLASS'] != 'Not Reported')]"
   ]
  },
  {
   "cell_type": "code",
   "execution_count": 7,
   "metadata": {},
   "outputs": [
    {
     "data": {
      "text/plain": [
       "(53060, 13)"
      ]
     },
     "execution_count": 7,
     "metadata": {},
     "output_type": "execute_result"
    }
   ],
   "source": [
    "data_inactive.shape #total number of wells remained after removing type 6 wells"
   ]
  },
  {
   "cell_type": "markdown",
   "metadata": {},
   "source": [
    "Last, we only keep columns 'COMPANY', 'UWI', 'LSD', 'WELL_TYPE', 'AER_RISK_CLASS' in our final dataset. Other columns (other than type 6) have insignificant effect on the final analysis. "
   ]
  },
  {
   "cell_type": "code",
   "execution_count": 8,
   "metadata": {
    "scrolled": true
   },
   "outputs": [
    {
     "data": {
      "text/html": [
       "<div>\n",
       "<style scoped>\n",
       "    .dataframe tbody tr th:only-of-type {\n",
       "        vertical-align: middle;\n",
       "    }\n",
       "\n",
       "    .dataframe tbody tr th {\n",
       "        vertical-align: top;\n",
       "    }\n",
       "\n",
       "    .dataframe thead th {\n",
       "        text-align: right;\n",
       "    }\n",
       "</style>\n",
       "<table border=\"1\" class=\"dataframe\">\n",
       "  <thead>\n",
       "    <tr style=\"text-align: right;\">\n",
       "      <th></th>\n",
       "      <th>COMPANY</th>\n",
       "      <th>Abbreviated Well ID</th>\n",
       "      <th>LSD</th>\n",
       "      <th>WELL_TYPE</th>\n",
       "      <th>AER_RISK_CLASS</th>\n",
       "    </tr>\n",
       "  </thead>\n",
       "  <tbody>\n",
       "    <tr>\n",
       "      <th>0</th>\n",
       "      <td>ACCEL Canada Holdings Limited</td>\n",
       "      <td>00/13-32-057-21W4/0</td>\n",
       "      <td>13-32-57-21W4</td>\n",
       "      <td>Non-flowing Oil Wells with an H2S content &lt; 50...</td>\n",
       "      <td>Low</td>\n",
       "    </tr>\n",
       "    <tr>\n",
       "      <th>1</th>\n",
       "      <td>NEP Canada ULC</td>\n",
       "      <td>00/16-08-050-26W4/2</td>\n",
       "      <td>16-8-50-26W4</td>\n",
       "      <td>Non-flowing Oil Wells with an H2S content &lt; 50...</td>\n",
       "      <td>Low</td>\n",
       "    </tr>\n",
       "    <tr>\n",
       "      <th>2</th>\n",
       "      <td>Long Run Exploration Ltd.</td>\n",
       "      <td>00/07-17-057-21W4/2</td>\n",
       "      <td>7-17-57-21W4</td>\n",
       "      <td>Non-flowing Oil Wells with an H2S content &lt; 50...</td>\n",
       "      <td>Low</td>\n",
       "    </tr>\n",
       "    <tr>\n",
       "      <th>3</th>\n",
       "      <td>Ohana Resources Inc.</td>\n",
       "      <td>00/16-21-057-21W4/0</td>\n",
       "      <td>16-21-57-21W4</td>\n",
       "      <td>Non-flowing Oil Wells with an H2S content &lt; 50...</td>\n",
       "      <td>Low</td>\n",
       "    </tr>\n",
       "    <tr>\n",
       "      <th>4</th>\n",
       "      <td>Long Run Exploration Ltd.</td>\n",
       "      <td>00/11-21-057-21W4/2</td>\n",
       "      <td>11-21-57-21W4</td>\n",
       "      <td>Gas Wells &lt; 28000 m3/Day that are low risk as ...</td>\n",
       "      <td>Low</td>\n",
       "    </tr>\n",
       "  </tbody>\n",
       "</table>\n",
       "</div>"
      ],
      "text/plain": [
       "                         COMPANY  Abbreviated Well ID            LSD  \\\n",
       "0  ACCEL Canada Holdings Limited  00/13-32-057-21W4/0  13-32-57-21W4   \n",
       "1                 NEP Canada ULC  00/16-08-050-26W4/2   16-8-50-26W4   \n",
       "2      Long Run Exploration Ltd.  00/07-17-057-21W4/2   7-17-57-21W4   \n",
       "3           Ohana Resources Inc.  00/16-21-057-21W4/0  16-21-57-21W4   \n",
       "4      Long Run Exploration Ltd.  00/11-21-057-21W4/2  11-21-57-21W4   \n",
       "\n",
       "                                           WELL_TYPE AER_RISK_CLASS  \n",
       "0  Non-flowing Oil Wells with an H2S content < 50...            Low  \n",
       "1  Non-flowing Oil Wells with an H2S content < 50...            Low  \n",
       "2  Non-flowing Oil Wells with an H2S content < 50...            Low  \n",
       "3  Non-flowing Oil Wells with an H2S content < 50...            Low  \n",
       "4  Gas Wells < 28000 m3/Day that are low risk as ...            Low  "
      ]
     },
     "execution_count": 8,
     "metadata": {},
     "output_type": "execute_result"
    }
   ],
   "source": [
    "data_inactive_filtered = data_inactive[['COMPANY', 'UWI', 'LSD', 'WELL_TYPE', 'AER_RISK_CLASS']].reset_index(drop = True)\n",
    "data_inactive_filtered = data_inactive_filtered.rename(columns = {'UWI':'Abbreviated Well ID'})\n",
    "data_inactive_filtered.head()"
   ]
  },
  {
   "cell_type": "code",
   "execution_count": 9,
   "metadata": {},
   "outputs": [
    {
     "data": {
      "text/plain": [
       "array(['Non-flowing Oil Wells with an H2S content < 50 mol/kmole',\n",
       "       'Gas Wells < 28000 m3/Day that are low risk as per Directive',\n",
       "       'Water Source Wells',\n",
       "       'Non-Critical Sour Cased Wells - no perforations',\n",
       "       'Class 4 Injection Wells'], dtype=object)"
      ]
     },
     "execution_count": 9,
     "metadata": {},
     "output_type": "execute_result"
    }
   ],
   "source": [
    "data_inactive_filtered[data_inactive_filtered['AER_RISK_CLASS'] == 'Low']['WELL_TYPE'].unique()"
   ]
  },
  {
   "cell_type": "markdown",
   "metadata": {},
   "source": [
    "Only keeping the wells with gas production"
   ]
  },
  {
   "cell_type": "code",
   "execution_count": 10,
   "metadata": {},
   "outputs": [
    {
     "data": {
      "text/html": [
       "<div>\n",
       "<style scoped>\n",
       "    .dataframe tbody tr th:only-of-type {\n",
       "        vertical-align: middle;\n",
       "    }\n",
       "\n",
       "    .dataframe tbody tr th {\n",
       "        vertical-align: top;\n",
       "    }\n",
       "\n",
       "    .dataframe thead th {\n",
       "        text-align: right;\n",
       "    }\n",
       "</style>\n",
       "<table border=\"1\" class=\"dataframe\">\n",
       "  <thead>\n",
       "    <tr style=\"text-align: right;\">\n",
       "      <th></th>\n",
       "      <th>COMPANY</th>\n",
       "      <th>Abbreviated Well ID</th>\n",
       "      <th>LSD</th>\n",
       "      <th>WELL_TYPE</th>\n",
       "      <th>AER_RISK_CLASS</th>\n",
       "    </tr>\n",
       "  </thead>\n",
       "  <tbody>\n",
       "    <tr>\n",
       "      <th>0</th>\n",
       "      <td>Long Run Exploration Ltd.</td>\n",
       "      <td>00/11-21-057-21W4/2</td>\n",
       "      <td>11-21-57-21W4</td>\n",
       "      <td>Gas Wells &lt; 28000 m3/Day that are low risk as ...</td>\n",
       "      <td>Low</td>\n",
       "    </tr>\n",
       "    <tr>\n",
       "      <th>1</th>\n",
       "      <td>Crescent Point Energy Corp.</td>\n",
       "      <td>00/13-31-056-06W4/0</td>\n",
       "      <td>13-31-56-6W4</td>\n",
       "      <td>Gas Wells &lt; 28000 m3/Day that are low risk as ...</td>\n",
       "      <td>Low</td>\n",
       "    </tr>\n",
       "    <tr>\n",
       "      <th>2</th>\n",
       "      <td>Long Run Exploration Ltd.</td>\n",
       "      <td>00/02-36-031-14W4/2</td>\n",
       "      <td>2-36-31-14W4</td>\n",
       "      <td>Gas Wells &lt; 28000 m3/Day that are low risk as ...</td>\n",
       "      <td>Low</td>\n",
       "    </tr>\n",
       "    <tr>\n",
       "      <th>3</th>\n",
       "      <td>NEP Canada ULC</td>\n",
       "      <td>00/07-35-050-26W4/3</td>\n",
       "      <td>7-35-50-26W4</td>\n",
       "      <td>Gas Wells &lt; 28000 m3/Day that are low risk as ...</td>\n",
       "      <td>Low</td>\n",
       "    </tr>\n",
       "    <tr>\n",
       "      <th>4</th>\n",
       "      <td>NEP Canada ULC</td>\n",
       "      <td>00/02-28-051-26W4/2</td>\n",
       "      <td>2-28-51-26W4</td>\n",
       "      <td>Gas Wells that can be Medium Risk as per Direc...</td>\n",
       "      <td>Medium</td>\n",
       "    </tr>\n",
       "  </tbody>\n",
       "</table>\n",
       "</div>"
      ],
      "text/plain": [
       "                       COMPANY  Abbreviated Well ID            LSD  \\\n",
       "0    Long Run Exploration Ltd.  00/11-21-057-21W4/2  11-21-57-21W4   \n",
       "1  Crescent Point Energy Corp.  00/13-31-056-06W4/0   13-31-56-6W4   \n",
       "2    Long Run Exploration Ltd.  00/02-36-031-14W4/2   2-36-31-14W4   \n",
       "3               NEP Canada ULC  00/07-35-050-26W4/3   7-35-50-26W4   \n",
       "4               NEP Canada ULC  00/02-28-051-26W4/2   2-28-51-26W4   \n",
       "\n",
       "                                           WELL_TYPE AER_RISK_CLASS  \n",
       "0  Gas Wells < 28000 m3/Day that are low risk as ...            Low  \n",
       "1  Gas Wells < 28000 m3/Day that are low risk as ...            Low  \n",
       "2  Gas Wells < 28000 m3/Day that are low risk as ...            Low  \n",
       "3  Gas Wells < 28000 m3/Day that are low risk as ...            Low  \n",
       "4  Gas Wells that can be Medium Risk as per Direc...         Medium  "
      ]
     },
     "execution_count": 10,
     "metadata": {},
     "output_type": "execute_result"
    }
   ],
   "source": [
    "data_inactive_filtered = data_inactive_filtered[(data_inactive_filtered['WELL_TYPE'] =='Gas Wells that can be Medium Risk as per Directive')\n",
    "                        | (data_inactive_filtered['WELL_TYPE'] =='Gas Wells < 28000 m3/Day that are low risk as per Directive')].reset_index(drop = True)\n",
    "data_inactive_filtered.head()"
   ]
  },
  {
   "cell_type": "markdown",
   "metadata": {},
   "source": [
    "Converting the categorical values of risks to numerical"
   ]
  },
  {
   "cell_type": "code",
   "execution_count": 11,
   "metadata": {},
   "outputs": [
    {
     "data": {
      "text/html": [
       "<div>\n",
       "<style scoped>\n",
       "    .dataframe tbody tr th:only-of-type {\n",
       "        vertical-align: middle;\n",
       "    }\n",
       "\n",
       "    .dataframe tbody tr th {\n",
       "        vertical-align: top;\n",
       "    }\n",
       "\n",
       "    .dataframe thead th {\n",
       "        text-align: right;\n",
       "    }\n",
       "</style>\n",
       "<table border=\"1\" class=\"dataframe\">\n",
       "  <thead>\n",
       "    <tr style=\"text-align: right;\">\n",
       "      <th></th>\n",
       "      <th>COMPANY</th>\n",
       "      <th>Abbreviated Well ID</th>\n",
       "      <th>LSD</th>\n",
       "      <th>WELL_TYPE</th>\n",
       "      <th>AER_RISK_CLASS</th>\n",
       "    </tr>\n",
       "  </thead>\n",
       "  <tbody>\n",
       "    <tr>\n",
       "      <th>0</th>\n",
       "      <td>Long Run Exploration Ltd.</td>\n",
       "      <td>00/11-21-057-21W4/2</td>\n",
       "      <td>11-21-57-21W4</td>\n",
       "      <td>Gas Wells &lt; 28000 m3/Day that are low risk as ...</td>\n",
       "      <td>0</td>\n",
       "    </tr>\n",
       "    <tr>\n",
       "      <th>1</th>\n",
       "      <td>Crescent Point Energy Corp.</td>\n",
       "      <td>00/13-31-056-06W4/0</td>\n",
       "      <td>13-31-56-6W4</td>\n",
       "      <td>Gas Wells &lt; 28000 m3/Day that are low risk as ...</td>\n",
       "      <td>0</td>\n",
       "    </tr>\n",
       "    <tr>\n",
       "      <th>2</th>\n",
       "      <td>Long Run Exploration Ltd.</td>\n",
       "      <td>00/02-36-031-14W4/2</td>\n",
       "      <td>2-36-31-14W4</td>\n",
       "      <td>Gas Wells &lt; 28000 m3/Day that are low risk as ...</td>\n",
       "      <td>0</td>\n",
       "    </tr>\n",
       "    <tr>\n",
       "      <th>3</th>\n",
       "      <td>NEP Canada ULC</td>\n",
       "      <td>00/07-35-050-26W4/3</td>\n",
       "      <td>7-35-50-26W4</td>\n",
       "      <td>Gas Wells &lt; 28000 m3/Day that are low risk as ...</td>\n",
       "      <td>0</td>\n",
       "    </tr>\n",
       "    <tr>\n",
       "      <th>4</th>\n",
       "      <td>NEP Canada ULC</td>\n",
       "      <td>00/02-28-051-26W4/2</td>\n",
       "      <td>2-28-51-26W4</td>\n",
       "      <td>Gas Wells that can be Medium Risk as per Direc...</td>\n",
       "      <td>1</td>\n",
       "    </tr>\n",
       "  </tbody>\n",
       "</table>\n",
       "</div>"
      ],
      "text/plain": [
       "                       COMPANY  Abbreviated Well ID            LSD  \\\n",
       "0    Long Run Exploration Ltd.  00/11-21-057-21W4/2  11-21-57-21W4   \n",
       "1  Crescent Point Energy Corp.  00/13-31-056-06W4/0   13-31-56-6W4   \n",
       "2    Long Run Exploration Ltd.  00/02-36-031-14W4/2   2-36-31-14W4   \n",
       "3               NEP Canada ULC  00/07-35-050-26W4/3   7-35-50-26W4   \n",
       "4               NEP Canada ULC  00/02-28-051-26W4/2   2-28-51-26W4   \n",
       "\n",
       "                                           WELL_TYPE  AER_RISK_CLASS  \n",
       "0  Gas Wells < 28000 m3/Day that are low risk as ...               0  \n",
       "1  Gas Wells < 28000 m3/Day that are low risk as ...               0  \n",
       "2  Gas Wells < 28000 m3/Day that are low risk as ...               0  \n",
       "3  Gas Wells < 28000 m3/Day that are low risk as ...               0  \n",
       "4  Gas Wells that can be Medium Risk as per Direc...               1  "
      ]
     },
     "execution_count": 11,
     "metadata": {},
     "output_type": "execute_result"
    }
   ],
   "source": [
    "data_inactive_filtered.loc[:,'AER_RISK_CLASS'] = data_inactive_filtered['AER_RISK_CLASS' ].replace({ 'Low' : 0, 'Medium' : 1, 'High' : 2 })\n",
    "data_inactive_filtered.head()"
   ]
  },
  {
   "cell_type": "markdown",
   "metadata": {},
   "source": [
    "Now we merge the inactive wells with our dataset from geoSCOUT and remove the rows with no production data. "
   ]
  },
  {
   "cell_type": "code",
   "execution_count": 12,
   "metadata": {},
   "outputs": [],
   "source": [
    "inactive_data = pd.merge(data_inactive_filtered, geoscout_data, on=\"Abbreviated Well ID\")\n",
    "\n",
    "inactive_data.dropna(subset = ['Cumulative GAS Prod. (e3m3)'], inplace = True)\n",
    "inactive_data.dropna(subset = ['Prod./Inject. Frmtn'], inplace = True)\n"
   ]
  },
  {
   "cell_type": "code",
   "execution_count": 13,
   "metadata": {},
   "outputs": [
    {
     "data": {
      "text/plain": [
       "(18592, 58)"
      ]
     },
     "execution_count": 13,
     "metadata": {},
     "output_type": "execute_result"
    }
   ],
   "source": [
    "inactive_data.shape"
   ]
  },
  {
   "cell_type": "markdown",
   "metadata": {},
   "source": [
    "Now we need to convert Drilling Problems into numerical values. Drilling Problems may play a role in the final risk category so they need to be included in our final model:\n",
    "\n",
    "Cells containing Blow: 3\n",
    "Cells containing Kick: 2\n",
    "Cells containing Hi Pressure: 1\n",
    "Cells with no values: 0\n",
    "Cells containing Lost Circulation: -1"
   ]
  },
  {
   "cell_type": "code",
   "execution_count": 14,
   "metadata": {},
   "outputs": [],
   "source": [
    "inactive_data['Drilling Problems'].fillna(0, inplace = True)\n",
    "\n",
    "inactive_data['Drilling Problems'] = inactive_data[['Drilling Problems']].applymap(lambda x: -1 if \"Lost Circ\" in str(x) else x)\n",
    "inactive_data['Drilling Problems'] = inactive_data[['Drilling Problems']].applymap(lambda x: 1 if \"Hi Press\" in str(x) else x)\n",
    "inactive_data['Drilling Problems'] = inactive_data[['Drilling Problems']].applymap(lambda x: 2 if \"Kick\" in str(x) else x)\n",
    "inactive_data['Drilling Problems'] = inactive_data[['Drilling Problems']].applymap(lambda x: 4 if \"Blow\" in str(x) else x)\n",
    "inactive_data['Drilling Problems'] = inactive_data[['Drilling Problems']].applymap(lambda x: 3 if \"Flow\" in str(x) else x)\n"
   ]
  },
  {
   "cell_type": "markdown",
   "metadata": {},
   "source": [
    "Finally we need to convert the formation names into numerical values using sklearn package."
   ]
  },
  {
   "cell_type": "code",
   "execution_count": 15,
   "metadata": {},
   "outputs": [
    {
     "data": {
      "text/plain": [
       "Kvik_ss                                2030\n",
       "Kgrand_rp                              1032\n",
       "Kmannvl                                1027\n",
       "Kbluesky                                992\n",
       "Kglauc_ss                               903\n",
       "                                       ... \n",
       "Kcard_ss;Kdunvegan;Kmannvl;Kgething       1\n",
       "Kcadomin;Jnikanssn                        1\n",
       "Kspirit_r;Kgething;Kcadomin               1\n",
       "Kvik_ss;Knotikwn                          1\n",
       "Kgen_petr;Kcummings                       1\n",
       "Name: Prod./Inject. Frmtn, Length: 321, dtype: int64"
      ]
     },
     "execution_count": 15,
     "metadata": {},
     "output_type": "execute_result"
    }
   ],
   "source": [
    "inactive_data['Prod./Inject. Frmtn'].value_counts()"
   ]
  },
  {
   "cell_type": "code",
   "execution_count": 16,
   "metadata": {},
   "outputs": [],
   "source": [
    "le = LabelEncoder()\n",
    "inactive_data['Formation Code'] = le.fit_transform(inactive_data['Prod./Inject. Frmtn'])"
   ]
  },
  {
   "cell_type": "code",
   "execution_count": 17,
   "metadata": {
    "scrolled": false
   },
   "outputs": [
    {
     "data": {
      "text/plain": [
       "COMPANY                                    object\n",
       "Abbreviated Well ID                        object\n",
       "LSD                                        object\n",
       "WELL_TYPE                                  object\n",
       "AER_RISK_CLASS                              int64\n",
       "TVD (m)                                   float64\n",
       "Formation@TD                               object\n",
       "Govt Surf. Loc.                            object\n",
       "Production-Casing Depth (m)               float64\n",
       "Production-Casing Size (mm)               float64\n",
       "Rm                                        float64\n",
       "BH Temp. (degC)                           float64\n",
       "Drilling Problems                           int64\n",
       "Prod./Inject. Frmtn                        object\n",
       "Prod Status Text                           object\n",
       "Producing Field/Area Name                  object\n",
       "First Prod YYYY/MM                         object\n",
       "Last Prod. YYYY/MM                         object\n",
       "Cumulative GAS Prod. (e3m3)               float64\n",
       "Cumulative OIL Prod. (m3)                 float64\n",
       "Cumulative CND Prod. (m3)                 float64\n",
       "Cumulative WTR Prod. (m3)                 float64\n",
       "Cumulative BOE Prod. (Bbl)                float64\n",
       "First 12 mo. Total GAS (e3m3)             float64\n",
       "First 12 mo. Total OIL (m3)               float64\n",
       "First 12 mo. Total CND (m3)               float64\n",
       "First 12 mo. Total WTR (m3)               float64\n",
       "First 12 mo. Total BOE (Bbl)              float64\n",
       "First 12 mo. Dly Avg. GAS (e3m3)          float64\n",
       "First 12 mo. Dly Avg. OIL (m3)            float64\n",
       "First 12 mo. Dly Avg. CND (m3)            float64\n",
       "First 12 mo. Dly Avg. WTR (m3)            float64\n",
       "First 12 mo. Dly Avg. BOE (Bbl)           float64\n",
       "First 12 mo. Ave GOR (m3/m3)              float64\n",
       "First 12 mo. Ave WC%                      float64\n",
       "Last 12 mo. Total GAS (e3m3)              float64\n",
       "Last 12 mo. Total OIL (m3)                float64\n",
       "Last 12 mo. Total CND (m3)                float64\n",
       "Last 12 mo. Total WTR (m3)                float64\n",
       "Last 12 mo. Total BOE (Bbl)               float64\n",
       "Last 12 mo. Dly Avg. GAS (e3m3)           float64\n",
       "Last 12 mo. Dly Avg. OIL (m3)             float64\n",
       "Last 12 mo. Dly Avg. CND (m3)             float64\n",
       "Last 12 mo. Dly Avg. WTR (m3)             float64\n",
       "Last 12 mo. Dly Avg. BOE (Bbl)            float64\n",
       "Last 12 mo. Ave GOR (m3/m3)               float64\n",
       "Last 12 mo. Ave WC%                       float64\n",
       "Most Recent 12 mo. Total GAS (e3m3)       float64\n",
       "Most Recent 12 mo. Total OIL (m3)         float64\n",
       "Most Recent 12 mo. Total CND (m3)         float64\n",
       "Most Recent 12 mo. Total WTR (m3)         float64\n",
       "Most Recent 12 mo. Total BOE (Bbl)        float64\n",
       "Most Recent 12 mo. Dly Avg. GAS (e3m3)    float64\n",
       "Most Recent 12 mo. Dly Avg. OIL (m3)      float64\n",
       "Most Recent 12 mo. Dly Avg. CND (m3)      float64\n",
       "Most Recent 12 mo. Dly Avg. WTR (m3)      float64\n",
       "Most Recent 12 mo. Dly Avg. BOE (Bbl)     float64\n",
       "Most Recent 12 mo. Ave GOR (m3/m3)        float64\n",
       "Formation Code                              int32\n",
       "dtype: object"
      ]
     },
     "execution_count": 17,
     "metadata": {},
     "output_type": "execute_result"
    }
   ],
   "source": [
    "inactive_data.dtypes"
   ]
  },
  {
   "cell_type": "markdown",
   "metadata": {},
   "source": [
    "Let's visualize how what formations have been produced the most gas in Alberta. "
   ]
  },
  {
   "cell_type": "code",
   "execution_count": 18,
   "metadata": {},
   "outputs": [],
   "source": [
    "top20_gas_prod = inactive_data.groupby('Prod./Inject. Frmtn').median().sort_values(by ='Cumulative GAS Prod. (e3m3)',ascending = False).head(20).reset_index() "
   ]
  },
  {
   "cell_type": "code",
   "execution_count": 19,
   "metadata": {},
   "outputs": [
    {
     "data": {
      "image/png": "[encoded data removed]",
      "text/plain": [
       "<Figure size 720x432 with 1 Axes>"
      ]
     },
     "metadata": {
      "needs_background": "light"
     },
     "output_type": "display_data"
    }
   ],
   "source": [
    "\n",
    "labels = top20_gas_prod['Prod./Inject. Frmtn'].to_list()\n",
    "\n",
    "\n",
    "gas_prod_per_fromation = top20_gas_prod['Cumulative GAS Prod. (e3m3)'].to_list()\n",
    "\n",
    "oil_prod_per_fromation = top20_gas_prod['Cumulative OIL Prod. (m3)'].to_list()\n",
    "water_prod_per_fromation = top20_gas_prod['Cumulative WTR Prod. (m3)'].to_list()\n",
    "\n",
    "fig, ax = plt.subplots(figsize=(10,6))\n",
    "width = 0.2\n",
    "ax.bar(x = labels, height = water_prod_per_fromation, label='Cumulative WTR Prod. (m3)')\n",
    "ax.bar(x = labels, height = oil_prod_per_fromation, bottom=water_prod_per_fromation,label='Cumulative OIL Prod. (m3)')\n",
    "ax.bar(x = labels, height = gas_prod_per_fromation, bottom=oil_prod_per_fromation,label='Cumulative GAS Prod. (e3m3)')\n",
    "\n",
    "ax.set_ylabel('Cumulative Production')\n",
    "ax.set_title('Cumulative Production per Formation in Alberta')\n",
    "ax.set_xticklabels(labels, rotation=90)\n",
    "ax.legend()\n",
    "\n",
    "plt.show()\n"
   ]
  },
  {
   "cell_type": "code",
   "execution_count": 20,
   "metadata": {},
   "outputs": [
    {
     "data": {
      "text/plain": [
       "Text(0, 0.5, 'Median Gas Production (e3m3)')"
      ]
     },
     "execution_count": 20,
     "metadata": {},
     "output_type": "execute_result"
    },
    {
     "data": {
      "image/png": "[encoded data removed]",
      "text/plain": [
       "<Figure size 720x432 with 1 Axes>"
      ]
     },
     "metadata": {
      "needs_background": "light"
     },
     "output_type": "display_data"
    }
   ],
   "source": [
    "ax = inactive_data[inactive_data['Cumulative GAS Prod. (e3m3)'] != 0].groupby('Prod./Inject. Frmtn')['Cumulative GAS Prod. (e3m3)'].median().sort_values(ascending = False).head(20).plot(kind='bar',\n",
    "                                    figsize=(10,6),\n",
    "                                    title=\"Top 20 Frequent Produced Formations for Gas\")\n",
    "ax.set_xlabel(\"Formation\")\n",
    "ax.set_ylabel(\"Median Gas Production (e3m3)\")"
   ]
  },
  {
   "cell_type": "markdown",
   "metadata": {},
   "source": [
    "As per Directive 13, gas wells with less than 28,000 cu m/day are considered low risk. We want to see how the first 12 monthns production affect the final production and also risk class of inactive wells. \n",
    "\n",
    "Let's define our features first."
   ]
  },
  {
   "cell_type": "code",
   "execution_count": 21,
   "metadata": {},
   "outputs": [
    {
     "data": {
      "text/plain": [
       "True"
      ]
     },
     "execution_count": 21,
     "metadata": {},
     "output_type": "execute_result"
    }
   ],
   "source": [
    "inactive_data.isnull().values.any()"
   ]
  },
  {
   "cell_type": "code",
   "execution_count": 22,
   "metadata": {},
   "outputs": [
    {
     "data": {
      "text/plain": [
       "(6880, 59)"
      ]
     },
     "execution_count": 22,
     "metadata": {},
     "output_type": "execute_result"
    }
   ],
   "source": [
    "inactive_data.dropna(how=\"any\", inplace = True) \n",
    "inactive_data.shape"
   ]
  },
  {
   "cell_type": "markdown",
   "metadata": {},
   "source": [
    "It can be seen that there is an imbalance in the dataset (majority is 'Low' risk)"
   ]
  },
  {
   "cell_type": "code",
   "execution_count": 23,
   "metadata": {},
   "outputs": [
    {
     "data": {
      "text/plain": [
       "(1, 59)"
      ]
     },
     "execution_count": 23,
     "metadata": {},
     "output_type": "execute_result"
    }
   ],
   "source": [
    "inactive_data[inactive_data['AER_RISK_CLASS'] == 2].shape"
   ]
  },
  {
   "cell_type": "code",
   "execution_count": 24,
   "metadata": {},
   "outputs": [
    {
     "data": {
      "text/plain": [
       "(6879, 59)"
      ]
     },
     "execution_count": 24,
     "metadata": {},
     "output_type": "execute_result"
    }
   ],
   "source": [
    "inactive_data = inactive_data[inactive_data['AER_RISK_CLASS'] != 2]\n",
    "inactive_data.shape"
   ]
  },
  {
   "cell_type": "code",
   "execution_count": 25,
   "metadata": {},
   "outputs": [
    {
     "data": {
      "text/plain": [
       "(6879, 4)"
      ]
     },
     "execution_count": 25,
     "metadata": {},
     "output_type": "execute_result"
    }
   ],
   "source": [
    "rc = inactive_data['AER_RISK_CLASS'].values \n",
    "\n",
    "features = inactive_data[['TVD (m)','First 12 mo. Total GAS (e3m3)','First 12 mo. Total WTR (m3)', \n",
    "                          'Drilling Problems']]\n",
    "features.shape"
   ]
  },
  {
   "cell_type": "code",
   "execution_count": 26,
   "metadata": {},
   "outputs": [
    {
     "data": {
      "text/plain": [
       "<matplotlib.axes._subplots.AxesSubplot at 0x191de273288>"
      ]
     },
     "execution_count": 26,
     "metadata": {},
     "output_type": "execute_result"
    },
    {
     "data": {
      "image/png": "[encoded data removed]",
      "text/plain": [
       "<Figure size 432x288 with 1 Axes>"
      ]
     },
     "metadata": {
      "needs_background": "light"
     },
     "output_type": "display_data"
    }
   ],
   "source": [
    "sns.distplot(inactive_data['First 12 mo. Total GAS (e3m3)'])"
   ]
  },
  {
   "cell_type": "code",
   "execution_count": 27,
   "metadata": {},
   "outputs": [
    {
     "data": {
      "text/plain": [
       "count      6879.000000\n",
       "mean       6736.723797\n",
       "std       13670.897516\n",
       "min           0.000000\n",
       "25%         906.500000\n",
       "50%        2688.000000\n",
       "75%        7179.500000\n",
       "max      354403.000000\n",
       "Name: First 12 mo. Total GAS (e3m3), dtype: float64"
      ]
     },
     "execution_count": 27,
     "metadata": {},
     "output_type": "execute_result"
    }
   ],
   "source": [
    "inactive_data['First 12 mo. Total GAS (e3m3)'].describe()"
   ]
  },
  {
   "cell_type": "code",
   "execution_count": 28,
   "metadata": {},
   "outputs": [
    {
     "data": {
      "text/plain": [
       "(16589.0, -8503.0, 6273.0)"
      ]
     },
     "execution_count": 28,
     "metadata": {},
     "output_type": "execute_result"
    }
   ],
   "source": [
    "# Let's calculate the upper and lower boundaries to identify outliers according to interquantile proximity rule\n",
    "\n",
    "IQR = inactive_data['First 12 mo. Total GAS (e3m3)'].quantile(0.75) - inactive_data['First 12 mo. Total GAS (e3m3)'].quantile(0.25)\n",
    "\n",
    "Lower_fence = inactive_data['First 12 mo. Total GAS (e3m3)'].quantile(0.25) - (IQR * 1.5)\n",
    "Upper_fence = inactive_data['First 12 mo. Total GAS (e3m3)'].quantile(0.75) + (IQR * 1.5)\n",
    "\n",
    "Upper_fence, Lower_fence, IQR"
   ]
  },
  {
   "cell_type": "code",
   "execution_count": 29,
   "metadata": {},
   "outputs": [
    {
     "name": "stdout",
     "output_type": "stream",
     "text": [
      "total wells: 6879\n",
      "wells with more than 3934.5 e3m3 production: 2741\n"
     ]
    }
   ],
   "source": [
    "# lets look at the actual number of wells on the upper production ranges\n",
    "\n",
    "print('total wells: {}'.format(inactive_data.shape[0]))\n",
    "\n",
    "print('wells with more than 3934.5 e3m3 production: {}'.format(\n",
    "    inactive_data[inactive_data['First 12 mo. Total GAS (e3m3)'] > 3934.5].shape[0]))"
   ]
  },
  {
   "cell_type": "code",
   "execution_count": 30,
   "metadata": {},
   "outputs": [
    {
     "data": {
      "text/plain": [
       "(-1182.25, 1253.25, -835.5)"
      ]
     },
     "execution_count": 30,
     "metadata": {},
     "output_type": "execute_result"
    }
   ],
   "source": [
    "# Let's calculate the upper and lower boundaries to identify outliers according to interquantile proximity rule\n",
    "\n",
    "IQR = inactive_data['First 12 mo. Total WTR (m3)'].quantile(0.75) - inactive_data['First 12 mo. Total GAS (e3m3)'].quantile(0.25)\n",
    "\n",
    "Lower_fence = inactive_data['First 12 mo. Total WTR (m3)'].quantile(0.25) - (IQR * 1.5)\n",
    "Upper_fence = inactive_data['First 12 mo. Total WTR (m3)'].quantile(0.75) + (IQR * 1.5)\n",
    "\n",
    "Upper_fence, Lower_fence, IQR"
   ]
  },
  {
   "cell_type": "code",
   "execution_count": 31,
   "metadata": {},
   "outputs": [
    {
     "name": "stdout",
     "output_type": "stream",
     "text": [
      "total wells: 6879\n",
      "wells with more than 1905.75 cu m production: 98\n"
     ]
    }
   ],
   "source": [
    "# lets look at the actual number of wells on the upper production ranges\n",
    "\n",
    "print('total wells: {}'.format(inactive_data.shape[0]))\n",
    "\n",
    "print('wells with more than 1905.75 cu m production: {}'.format(\n",
    "    inactive_data[inactive_data['First 12 mo. Total WTR (m3)'] > 1905.75].shape[0]))"
   ]
  },
  {
   "cell_type": "markdown",
   "metadata": {},
   "source": [
    "Normalizing the production and depth data with (x -min(x))/(max(x)-min(x)"
   ]
  },
  {
   "cell_type": "code",
   "execution_count": 32,
   "metadata": {},
   "outputs": [
    {
     "data": {
      "text/plain": [
       "(6879, 4)"
      ]
     },
     "execution_count": 32,
     "metadata": {},
     "output_type": "execute_result"
    }
   ],
   "source": [
    "normalized_features = (features - np.min(features))/(np.max(features) - np.min(features)).values # features after normalization\n",
    "normalized_features.shape"
   ]
  },
  {
   "cell_type": "markdown",
   "metadata": {},
   "source": [
    "Now we are going to split the data into train and test with 80% as train and the remaining for test. "
   ]
  },
  {
   "cell_type": "code",
   "execution_count": 33,
   "metadata": {},
   "outputs": [
    {
     "name": "stdout",
     "output_type": "stream",
     "text": [
      "features_train:  (4, 5503)\n",
      "features_test  (4, 1376)\n",
      "rc_train:  (5503,)\n",
      "rc_test:  (1376,)\n"
     ]
    }
   ],
   "source": [
    "from sklearn.model_selection import train_test_split\n",
    "features_train, features_test, rc_train, rc_test = train_test_split(normalized_features, rc ,test_size = 0.2 , \n",
    "                                                                      random_state = 42)\n",
    "\n",
    "features_train = features_train.T\n",
    "features_test = features_test.T\n",
    "rc_train = rc_train.T\n",
    "rc_test = rc_test.T\n",
    "\n",
    "print(\"features_train: \", features_train.shape)\n",
    "print(\"features_test \", features_test.shape)\n",
    "print(\"rc_train: \", rc_train.shape)\n",
    "print(\"rc_test: \", rc_test.shape)"
   ]
  },
  {
   "cell_type": "markdown",
   "metadata": {},
   "source": [
    "Parameter initialization and Sigmoid function"
   ]
  },
  {
   "cell_type": "code",
   "execution_count": 34,
   "metadata": {},
   "outputs": [],
   "source": [
    "def initialize_weights_and_bias(dimension):\n",
    "    \n",
    "    weights = np.full((dimension,1), 0.01) \n",
    "    bias = 0.0 \n",
    "    return weights,bias\n",
    "    \n",
    "def sigmoid(z):\n",
    "    rc_head = 1/(1+np.exp(-z))\n",
    "    return rc_head"
   ]
  },
  {
   "cell_type": "markdown",
   "metadata": {},
   "source": [
    "Forward and backward propagation function"
   ]
  },
  {
   "cell_type": "code",
   "execution_count": 35,
   "metadata": {},
   "outputs": [],
   "source": [
    "def forward_backward_propagation(weights, bias , features_train, rc_train):\n",
    "    #forward propagation\n",
    "    \n",
    "    z = np.dot(weights.T,features_train) + bias\n",
    "    rc_head = sigmoid(z)\n",
    "    loss = -rc_train*np.log(rc_head) - (1- rc_train)*np.log(1-rc_head)\n",
    "    cost = (np.sum(loss))/features_train.shape[1]\n",
    "    \n",
    "    #backward propagation\n",
    "    derivative_weights = (np.dot(features_train,((rc_head-rc_train).T)))/features_train.shape[1] \n",
    "    derivative_bias = np.sum(rc_head-rc_train)/features_train.shape[1] \n",
    "    gradients = {\"derivative_weights\" : derivative_weights, \"derivative_bias\" : derivative_bias}\n",
    "    return cost,gradients"
   ]
  },
  {
   "cell_type": "code",
   "execution_count": 36,
   "metadata": {},
   "outputs": [],
   "source": [
    "def update(weights, bias, features_train, rc_train, learning_rate, number_of_iterations):\n",
    "    cost_list = []\n",
    "    cost_list2 = []\n",
    "    index = []\n",
    "    \n",
    "    for i in range(number_of_iterations):\n",
    "        \n",
    "        cost, gradients = forward_backward_propagation(weights, bias, features_train, rc_train)\n",
    "        cost_list.append(cost)\n",
    "        \n",
    "        weights = weights - learning_rate* gradients[\"derivative_weights\"]\n",
    "        bias = bias - learning_rate*gradients[\"derivative_bias\"]\n",
    "        \n",
    "        if i % 10 == 0: # her 10 adımda bir depolar\n",
    "            cost_list2.append(cost)\n",
    "            index.append(i)\n",
    "            print(\"Cost after iterations %i: %f \" %(i,cost))\n",
    "            \n",
    "        \n",
    "    parameters =  {\"weights\" : weights, \"bias\" : bias}\n",
    "    plt.plot(index,cost_list2)\n",
    "    plt.xticks(index, rotation = \"vertical\")\n",
    "    plt.xlabel(\"Number Of Iterations\")\n",
    "    plt.ylabel(\"Cost\")\n",
    "    plt.show()\n",
    "    return parameters, gradients, cost_list"
   ]
  },
  {
   "cell_type": "markdown",
   "metadata": {},
   "source": [
    "Predicting with the features_test"
   ]
  },
  {
   "cell_type": "code",
   "execution_count": 37,
   "metadata": {},
   "outputs": [],
   "source": [
    "def predict(weights, bias, features_test):\n",
    "    \n",
    "    z = sigmoid(np.dot(weights.T,features_test)+bias)\n",
    "    rc_prediction = np.zeros((1,features_test.shape[1]))\n",
    "    \n",
    "    \n",
    "    for i in range(z.shape[1]):\n",
    "        if z[0,i] <= 0.5 :\n",
    "            rc_prediction[0,i] = 0\n",
    "        else:\n",
    "            rc_prediction[0,i] = 1\n",
    "            \n",
    "    return rc_prediction"
   ]
  },
  {
   "cell_type": "markdown",
   "metadata": {},
   "source": [
    "Putting it all together "
   ]
  },
  {
   "cell_type": "code",
   "execution_count": 38,
   "metadata": {},
   "outputs": [
    {
     "name": "stdout",
     "output_type": "stream",
     "text": [
      "Cost after iterations 0: 0.694808 \n",
      "Cost after iterations 10: 0.255343 \n",
      "Cost after iterations 20: 0.245766 \n",
      "Cost after iterations 30: 0.237865 \n",
      "Cost after iterations 40: 0.231413 \n",
      "Cost after iterations 50: 0.226178 \n",
      "Cost after iterations 60: 0.221943 \n",
      "Cost after iterations 70: 0.218519 \n",
      "Cost after iterations 80: 0.215744 \n",
      "Cost after iterations 90: 0.213488 \n",
      "Cost after iterations 100: 0.211645 \n",
      "Cost after iterations 110: 0.210132 \n",
      "Cost after iterations 120: 0.208883 \n",
      "Cost after iterations 130: 0.207846 \n",
      "Cost after iterations 140: 0.206979 \n",
      "Cost after iterations 150: 0.206251 \n",
      "Cost after iterations 160: 0.205636 \n",
      "Cost after iterations 170: 0.205112 \n",
      "Cost after iterations 180: 0.204665 \n",
      "Cost after iterations 190: 0.204280 \n",
      "Cost after iterations 200: 0.203947 \n",
      "Cost after iterations 210: 0.203657 \n",
      "Cost after iterations 220: 0.203403 \n",
      "Cost after iterations 230: 0.203180 \n",
      "Cost after iterations 240: 0.202982 \n",
      "Cost after iterations 250: 0.202807 \n",
      "Cost after iterations 260: 0.202649 \n",
      "Cost after iterations 270: 0.202508 \n",
      "Cost after iterations 280: 0.202380 \n",
      "Cost after iterations 290: 0.202264 \n"
     ]
    },
    {
     "data": {
      "image/png": "[encoded data removed]",
      "text/plain": [
       "<Figure size 432x288 with 1 Axes>"
      ]
     },
     "metadata": {
      "needs_background": "light"
     },
     "output_type": "display_data"
    },
    {
     "name": "stdout",
     "output_type": "stream",
     "text": [
      "Test occuracy: 93.24127906976744% \n"
     ]
    }
   ],
   "source": [
    "def logistic_regression(features_train, rc_train, features_test, rc_test, learning_rate, number_of_iterations):\n",
    "    dimension = features_train.shape[0] # that is 5(features)\n",
    "    weights, bias = initialize_weights_and_bias(dimension)\n",
    "    \n",
    "    parameters, gradients, cost_list = update(weights, bias, features_train, rc_train, learning_rate, number_of_iterations) \n",
    "    \n",
    "    rc_prediction_test = predict(parameters[\"weights\"], parameters[\"bias\"], features_test)\n",
    "    \n",
    "    print(\"Test occuracy: {}% \".format(100-np.mean(np.abs(rc_prediction_test - rc_test))*100))\n",
    "    \n",
    "logistic_regression(features_train, rc_train, features_test, rc_test, learning_rate = 5, number_of_iterations = 300)"
   ]
  },
  {
   "cell_type": "code",
   "execution_count": 39,
   "metadata": {},
   "outputs": [
    {
     "name": "stdout",
     "output_type": "stream",
     "text": [
      "test accuracy 0.9331395348837209\n"
     ]
    }
   ],
   "source": [
    "from sklearn.linear_model import LogisticRegression\n",
    "lr = LogisticRegression()\n",
    "lr.fit(features_train.T,rc_train.T)\n",
    "print(\"test accuracy {}\".format(lr.score(features_test.T,rc_test.T)))"
   ]
  },
  {
   "cell_type": "markdown",
   "metadata": {},
   "source": [
    "Since we don't have enough data for under sampling, we should use over sampling approach to balance our dataset. "
   ]
  },
  {
   "cell_type": "code",
   "execution_count": 40,
   "metadata": {},
   "outputs": [],
   "source": [
    "## Get the Fraud and the normal dataset \n",
    "\n",
    "medium = inactive_data[inactive_data['AER_RISK_CLASS']==1]\n",
    "\n",
    "low = inactive_data[inactive_data['AER_RISK_CLASS']==0]"
   ]
  },
  {
   "cell_type": "code",
   "execution_count": 41,
   "metadata": {},
   "outputs": [
    {
     "name": "stdout",
     "output_type": "stream",
     "text": [
      "(493, 59) (6386, 59)\n"
     ]
    }
   ],
   "source": [
    "print(medium.shape,low.shape)"
   ]
  },
  {
   "cell_type": "code",
   "execution_count": 42,
   "metadata": {},
   "outputs": [],
   "source": [
    "from imblearn.combine import SMOTETomek"
   ]
  },
  {
   "cell_type": "code",
   "execution_count": 43,
   "metadata": {},
   "outputs": [],
   "source": [
    "# Implementing Oversampling for Handling Imbalanced \n",
    "smk = SMOTETomek(random_state=42)\n",
    "normalized_features_res,rc_res=smk.fit_sample(normalized_features,rc)"
   ]
  },
  {
   "cell_type": "code",
   "execution_count": 44,
   "metadata": {},
   "outputs": [
    {
     "data": {
      "text/plain": [
       "((11818, 4), (11818,))"
      ]
     },
     "execution_count": 44,
     "metadata": {},
     "output_type": "execute_result"
    }
   ],
   "source": [
    "normalized_features_res.shape,rc_res.shape"
   ]
  },
  {
   "cell_type": "markdown",
   "metadata": {},
   "source": [
    "Let's split the data again and try the linear regression "
   ]
  },
  {
   "cell_type": "code",
   "execution_count": 45,
   "metadata": {},
   "outputs": [
    {
     "name": "stdout",
     "output_type": "stream",
     "text": [
      "features_train:  (4, 9454)\n",
      "features_test  (4, 2364)\n",
      "rc_train:  (9454,)\n",
      "rc_test:  (2364,)\n"
     ]
    }
   ],
   "source": [
    "from sklearn.model_selection import train_test_split\n",
    "features_train, features_test, rc_train, rc_test = train_test_split(normalized_features_res, rc_res ,test_size = 0.2 , \n",
    "                                                                      random_state = 42)\n",
    "\n",
    "features_train = features_train.T\n",
    "features_test = features_test.T\n",
    "rc_train = rc_train.T\n",
    "rc_test = rc_test.T\n",
    "\n",
    "print(\"features_train: \", features_train.shape)\n",
    "print(\"features_test \", features_test.shape)\n",
    "print(\"rc_train: \", rc_train.shape)\n",
    "print(\"rc_test: \", rc_test.shape)"
   ]
  },
  {
   "cell_type": "code",
   "execution_count": 46,
   "metadata": {},
   "outputs": [
    {
     "name": "stdout",
     "output_type": "stream",
     "text": [
      "Cost after iterations 0: 0.692444 \n",
      "Cost after iterations 10: 0.581800 \n",
      "Cost after iterations 20: 0.537993 \n",
      "Cost after iterations 30: 0.517994 \n",
      "Cost after iterations 40: 0.507841 \n",
      "Cost after iterations 50: 0.502271 \n",
      "Cost after iterations 60: 0.499030 \n",
      "Cost after iterations 70: 0.497046 \n",
      "Cost after iterations 80: 0.495776 \n",
      "Cost after iterations 90: 0.494925 \n",
      "Cost after iterations 100: 0.494328 \n",
      "Cost after iterations 110: 0.493890 \n",
      "Cost after iterations 120: 0.493554 \n",
      "Cost after iterations 130: 0.493285 \n",
      "Cost after iterations 140: 0.493061 \n",
      "Cost after iterations 150: 0.492868 \n",
      "Cost after iterations 160: 0.492697 \n",
      "Cost after iterations 170: 0.492544 \n",
      "Cost after iterations 180: 0.492403 \n",
      "Cost after iterations 190: 0.492272 \n",
      "Cost after iterations 200: 0.492150 \n",
      "Cost after iterations 210: 0.492034 \n",
      "Cost after iterations 220: 0.491925 \n",
      "Cost after iterations 230: 0.491820 \n",
      "Cost after iterations 240: 0.491721 \n",
      "Cost after iterations 250: 0.491625 \n",
      "Cost after iterations 260: 0.491534 \n",
      "Cost after iterations 270: 0.491446 \n",
      "Cost after iterations 280: 0.491361 \n",
      "Cost after iterations 290: 0.491279 \n"
     ]
    },
    {
     "data": {
      "image/png": "[encoded data removed]",
      "text/plain": [
       "<Figure size 432x288 with 1 Axes>"
      ]
     },
     "metadata": {
      "needs_background": "light"
     },
     "output_type": "display_data"
    },
    {
     "name": "stdout",
     "output_type": "stream",
     "text": [
      "Test occuracy: 78.1725888324873% \n"
     ]
    }
   ],
   "source": [
    "def logistic_regression(features_train, rc_train, features_test, rc_test, learning_rate, number_of_iterations):\n",
    "    dimension = features_train.shape[0] # that is 5(features)\n",
    "    weights, bias = initialize_weights_and_bias(dimension)\n",
    "    \n",
    "    parameters, gradients, cost_list = update(weights, bias, features_train, rc_train, learning_rate, number_of_iterations) \n",
    "    \n",
    "    rc_prediction_test = predict(parameters[\"weights\"], parameters[\"bias\"], features_test)\n",
    "    \n",
    "    print(\"Test occuracy: {}% \".format(100-np.mean(np.abs(rc_prediction_test - rc_test))*100))\n",
    "    \n",
    "logistic_regression(features_train, rc_train, features_test, rc_test, learning_rate = 5, number_of_iterations = 300)"
   ]
  },
  {
   "cell_type": "code",
   "execution_count": 47,
   "metadata": {},
   "outputs": [
    {
     "name": "stdout",
     "output_type": "stream",
     "text": [
      "test accuracy 0.7800338409475466\n"
     ]
    }
   ],
   "source": [
    "from sklearn.linear_model import LogisticRegression\n",
    "lr = LogisticRegression()\n",
    "lr.fit(features_train.T,rc_train.T)\n",
    "print(\"test accuracy {}\".format(lr.score(features_test.T,rc_test.T)))"
   ]
  },
  {
   "cell_type": "code",
   "execution_count": 48,
   "metadata": {},
   "outputs": [],
   "source": [
    "from sklearn.linear_model import LogisticRegression\n",
    "from sklearn.ensemble import AdaBoostClassifier\n",
    "from sklearn.ensemble import RandomForestClassifier\n",
    "\n",
    "from sklearn.metrics import roc_auc_score\n",
    "from sklearn.model_selection import train_test_split"
   ]
  },
  {
   "cell_type": "code",
   "execution_count": 49,
   "metadata": {},
   "outputs": [
    {
     "name": "stdout",
     "output_type": "stream",
     "text": [
      "features_train:  (9454, 4)\n",
      "features_test  (2364, 4)\n",
      "rc_train:  (9454,)\n",
      "rc_test:  (2364,)\n"
     ]
    }
   ],
   "source": [
    "# Let's divide into train and test sets\n",
    "features_train, features_test, rc_train, rc_test = train_test_split(\n",
    "    normalized_features_res, \n",
    "    rc_res,\n",
    "    test_size=0.2,\n",
    "    random_state=0)\n",
    "\n",
    "\n",
    "print(\"features_train: \", features_train.shape)\n",
    "print(\"features_test \", features_test.shape)\n",
    "print(\"rc_train: \", rc_train.shape)\n",
    "print(\"rc_test: \", rc_test.shape)"
   ]
  },
  {
   "cell_type": "markdown",
   "metadata": {},
   "source": [
    "### Logistic Regression"
   ]
  },
  {
   "cell_type": "code",
   "execution_count": 50,
   "metadata": {},
   "outputs": [
    {
     "name": "stdout",
     "output_type": "stream",
     "text": [
      "LogReg Accuracy: 0.7787648054145516\n",
      "LogReg roc-auc: 0.8455873932064408\n"
     ]
    }
   ],
   "source": [
    "# model build on data with outliers\n",
    "\n",
    "# call model\n",
    "logit = LogisticRegression(random_state=44)\n",
    "\n",
    "# train model\n",
    "logit.fit(features_train, rc_train)\n",
    "\n",
    "# make predicion on test set\n",
    "pred = logit.predict_proba(features_test)\n",
    "\n",
    "print('LogReg Accuracy: {}'.format(logit.score(features_test, rc_test)))\n",
    "print('LogReg roc-auc: {}'.format(roc_auc_score(rc_test, pred[:, 1])))"
   ]
  },
  {
   "cell_type": "markdown",
   "metadata": {},
   "source": [
    "Creating a list and append all models results"
   ]
  },
  {
   "cell_type": "code",
   "execution_count": 51,
   "metadata": {},
   "outputs": [],
   "source": [
    "algorithm = []"
   ]
  },
  {
   "cell_type": "markdown",
   "metadata": {},
   "source": [
    "### K Nearest Neighbor(KNN)"
   ]
  },
  {
   "cell_type": "code",
   "execution_count": 52,
   "metadata": {},
   "outputs": [
    {
     "data": {
      "text/plain": [
       "array([0.90186125, 0.86928934, 0.87605753, 0.86717428, 0.87351946,\n",
       "       0.87055838, 0.87098139, 0.86548223, 0.86040609, 0.85913706,\n",
       "       0.85829103, 0.85617597, 0.85067682, 0.84856176, 0.84856176,\n",
       "       0.84348562, 0.84348562, 0.83671743, 0.83756345])"
      ]
     },
     "execution_count": 52,
     "metadata": {},
     "output_type": "execute_result"
    }
   ],
   "source": [
    "Ks = 20\n",
    "mean_acc = np.zeros((Ks-1))\n",
    "std_acc = np.zeros((Ks-1))\n",
    "error = []\n",
    "ConfustionMx = [];\n",
    "for n in range(1,Ks):  \n",
    "    #Train Model and Predict  \n",
    "    neigh = KNeighborsClassifier(n_neighbors = n).fit(features_train, rc_train)\n",
    "    yhat=neigh.predict(features_test)\n",
    "    mean_acc[n-1] = metrics.accuracy_score(rc_test, yhat)  \n",
    "    std_acc[n-1]=np.std(yhat==rc_test)/np.sqrt(yhat.shape[0])\n",
    "    error.append(np.mean(yhat != rc_test))\n",
    "\n",
    "mean_acc"
   ]
  },
  {
   "cell_type": "code",
   "execution_count": 53,
   "metadata": {},
   "outputs": [
    {
     "data": {
      "text/plain": [
       "Text(0.5, 0, 'Number of Nabors (K)')"
      ]
     },
     "execution_count": 53,
     "metadata": {},
     "output_type": "execute_result"
    },
    {
     "data": {
      "image/png": "[encoded data removed]",
      "text/plain": [
       "<Figure size 864x720 with 2 Axes>"
      ]
     },
     "metadata": {
      "needs_background": "light"
     },
     "output_type": "display_data"
    }
   ],
   "source": [
    "plt.figure(figsize=(12,10))\n",
    "plt.subplot(2,2,1)\n",
    "plt.plot(range(1,Ks),mean_acc,'g')\n",
    "plt.fill_between(range(1,Ks),mean_acc - 1 * std_acc,mean_acc + 1 * std_acc, alpha=0.10)\n",
    "plt.legend(('Accuracy ', '+/- 3xstd'))\n",
    "plt.ylabel('Accuracy ')\n",
    "plt.xlabel('Number of Nabors (K)')\n",
    "\n",
    "plt.subplot(2,2,2)\n",
    "plt.plot(range(1,Ks),error,'r')\n",
    "plt.ylabel('Error ')\n",
    "plt.xlabel('Number of Nabors (K)')\n"
   ]
  },
  {
   "cell_type": "markdown",
   "metadata": {},
   "source": [
    "KNN gives the highest accuracy with K = 1 but since this is meaningless, I chose the second highest accuracy k =3. "
   ]
  },
  {
   "cell_type": "code",
   "execution_count": 54,
   "metadata": {},
   "outputs": [
    {
     "name": "stdout",
     "output_type": "stream",
     "text": [
      "The best accuracy was with 0.9018612521150592 with k= 1\n"
     ]
    }
   ],
   "source": [
    "print( \"The best accuracy was with\", mean_acc.max(), \"with k=\", mean_acc.argmax()+1) "
   ]
  },
  {
   "cell_type": "code",
   "execution_count": 55,
   "metadata": {},
   "outputs": [
    {
     "data": {
      "text/html": [
       "<div>\n",
       "<style scoped>\n",
       "    .dataframe tbody tr th:only-of-type {\n",
       "        vertical-align: middle;\n",
       "    }\n",
       "\n",
       "    .dataframe tbody tr th {\n",
       "        vertical-align: top;\n",
       "    }\n",
       "\n",
       "    .dataframe thead th {\n",
       "        text-align: right;\n",
       "    }\n",
       "</style>\n",
       "<table border=\"1\" class=\"dataframe\">\n",
       "  <thead>\n",
       "    <tr style=\"text-align: right;\">\n",
       "      <th></th>\n",
       "      <th>KNN_similarity</th>\n",
       "      <th>KNN_f1</th>\n",
       "      <th>KNN_log_loss</th>\n",
       "      <th>KNN_accuracy</th>\n",
       "    </tr>\n",
       "  </thead>\n",
       "  <tbody>\n",
       "    <tr>\n",
       "      <th>0</th>\n",
       "      <td>0.770376</td>\n",
       "      <td>0.875841</td>\n",
       "      <td>1.815391</td>\n",
       "      <td>0.876058</td>\n",
       "    </tr>\n",
       "    <tr>\n",
       "      <th>1</th>\n",
       "      <td>0.787835</td>\n",
       "      <td>0.875841</td>\n",
       "      <td>1.815391</td>\n",
       "      <td>0.876058</td>\n",
       "    </tr>\n",
       "  </tbody>\n",
       "</table>\n",
       "</div>"
      ],
      "text/plain": [
       "   KNN_similarity    KNN_f1  KNN_log_loss  KNN_accuracy\n",
       "0        0.770376  0.875841      1.815391      0.876058\n",
       "1        0.787835  0.875841      1.815391      0.876058"
      ]
     },
     "execution_count": 55,
     "metadata": {},
     "output_type": "execute_result"
    }
   ],
   "source": [
    "jaccard_knn = {}\n",
    "\n",
    "neigh = KNeighborsClassifier(n_neighbors = 3).fit(features_train, rc_train)\n",
    "yhat = neigh.predict(features_test)\n",
    "pred = neigh.predict_proba(features_test)\n",
    "\n",
    "jaccard_knn['KNN' +\"_similarity\"] = jaccard_score(rc_test, yhat, average = None)\n",
    "jaccard_knn['KNN' + \"_f1\"] = f1_score(rc_test, yhat, average='weighted')\n",
    "jaccard_knn['KNN' + \"_log_loss\"] = log_loss(rc_test, pred)\n",
    "jaccard_knn['KNN' + \"_accuracy\"] = metrics.accuracy_score(rc_test, yhat)\n",
    "\n",
    "algorithm.append([jaccard_score(rc_test, yhat, average = None), f1_score(rc_test, yhat, average='weighted'),\n",
    "                  '', metrics.accuracy_score(rc_test, yhat)])\n",
    "\n",
    "pd.DataFrame(jaccard_knn)"
   ]
  },
  {
   "cell_type": "markdown",
   "metadata": {},
   "source": [
    "### Decision Tree"
   ]
  },
  {
   "cell_type": "code",
   "execution_count": 56,
   "metadata": {},
   "outputs": [
    {
     "data": {
      "text/html": [
       "<div>\n",
       "<style scoped>\n",
       "    .dataframe tbody tr th:only-of-type {\n",
       "        vertical-align: middle;\n",
       "    }\n",
       "\n",
       "    .dataframe tbody tr th {\n",
       "        vertical-align: top;\n",
       "    }\n",
       "\n",
       "    .dataframe thead th {\n",
       "        text-align: right;\n",
       "    }\n",
       "</style>\n",
       "<table border=\"1\" class=\"dataframe\">\n",
       "  <thead>\n",
       "    <tr style=\"text-align: right;\">\n",
       "      <th></th>\n",
       "      <th>DecisionTree_similarity</th>\n",
       "      <th>DecisionTree_f1</th>\n",
       "      <th>DecisionTree_log_loss</th>\n",
       "      <th>DecisionTree_accuracy</th>\n",
       "    </tr>\n",
       "  </thead>\n",
       "  <tbody>\n",
       "    <tr>\n",
       "      <th>0</th>\n",
       "      <td>0.652204</td>\n",
       "      <td>0.786316</td>\n",
       "      <td>0.44818</td>\n",
       "      <td>0.786379</td>\n",
       "    </tr>\n",
       "    <tr>\n",
       "      <th>1</th>\n",
       "      <td>0.643613</td>\n",
       "      <td>0.786316</td>\n",
       "      <td>0.44818</td>\n",
       "      <td>0.786379</td>\n",
       "    </tr>\n",
       "  </tbody>\n",
       "</table>\n",
       "</div>"
      ],
      "text/plain": [
       "   DecisionTree_similarity  DecisionTree_f1  DecisionTree_log_loss  \\\n",
       "0                 0.652204         0.786316                0.44818   \n",
       "1                 0.643613         0.786316                0.44818   \n",
       "\n",
       "   DecisionTree_accuracy  \n",
       "0               0.786379  \n",
       "1               0.786379  "
      ]
     },
     "execution_count": 56,
     "metadata": {},
     "output_type": "execute_result"
    }
   ],
   "source": [
    "jaccard_drugtree = {}\n",
    "\n",
    "drugTree = DecisionTreeClassifier(criterion=\"entropy\", max_depth = 4)\n",
    "drugTree.fit(features_train, rc_train)\n",
    "predTree = drugTree.predict(features_test)\n",
    "pred = drugTree.predict_proba(features_test)\n",
    "\n",
    "jaccard_drugtree['DecisionTree' +\"_similarity\"] = jaccard_score(rc_test, predTree, average = None)\n",
    "jaccard_drugtree['DecisionTree' + \"_f1\"] = f1_score(rc_test, predTree, average='weighted')\n",
    "jaccard_drugtree['DecisionTree' + \"_log_loss\"] = log_loss(rc_test, pred)\n",
    "jaccard_drugtree['DecisionTree' + \"_accuracy\"] = metrics.accuracy_score(rc_test, predTree)\n",
    "\n",
    "algorithm.append([jaccard_score(rc_test, predTree, average = None), f1_score(rc_test, predTree, average='weighted'),\n",
    "                  '', metrics.accuracy_score(rc_test, predTree)])\n",
    "\n",
    "\n",
    "pd.DataFrame(jaccard_drugtree)"
   ]
  },
  {
   "cell_type": "markdown",
   "metadata": {},
   "source": [
    "### Support Vector "
   ]
  },
  {
   "cell_type": "code",
   "execution_count": 57,
   "metadata": {},
   "outputs": [],
   "source": [
    "kernel_type = ['rbf', 'linear', 'poly', 'sigmoid']\n",
    "jaccard_acc = []\n",
    "for type in kernel_type:\n",
    "    clf = svm.SVC(kernel=type)\n",
    "    clf.fit(features_train, rc_train) \n",
    "    yhat = clf.predict(features_test)\n",
    "    yhat [0:5]\n",
    "\n",
    "    jaccard_sim = jaccard_score(rc_test, yhat)\n",
    "    dict = {}\n",
    "    dict[type] = jaccard_sim\n",
    "    jaccard_acc.append(dict)"
   ]
  },
  {
   "cell_type": "code",
   "execution_count": 58,
   "metadata": {},
   "outputs": [
    {
     "data": {
      "text/plain": [
       "[{'rbf': 0.6334269662921348},\n",
       " {'linear': 0.6351633078526755},\n",
       " {'poly': 0.6124260355029586},\n",
       " {'sigmoid': 0.22464503042596348}]"
      ]
     },
     "execution_count": 58,
     "metadata": {},
     "output_type": "execute_result"
    }
   ],
   "source": [
    "jaccard_acc"
   ]
  },
  {
   "cell_type": "code",
   "execution_count": 59,
   "metadata": {},
   "outputs": [
    {
     "name": "stdout",
     "output_type": "stream",
     "text": [
      "The best accuracy was with 0.6351633078526755 with Linear\n"
     ]
    }
   ],
   "source": [
    "print( \"The best accuracy was with\", jaccard_acc[1]['linear'], \"with Linear\") "
   ]
  },
  {
   "cell_type": "code",
   "execution_count": 60,
   "metadata": {},
   "outputs": [
    {
     "data": {
      "text/plain": [
       "{'SupportVector_similarity': array([0.63793103, 0.63516331]),\n",
       " 'SupportVector_f1': 0.7779087275422978,\n",
       " 'SupportVector_log_loss': '',\n",
       " 'SupportVector_accuracy': 0.7779187817258884}"
      ]
     },
     "execution_count": 60,
     "metadata": {},
     "output_type": "execute_result"
    }
   ],
   "source": [
    "jaccard_sv = {}\n",
    "\n",
    "clf = svm.SVC(kernel='linear')\n",
    "clf.fit(features_train, rc_train) \n",
    "yhat = clf.predict(features_test)\n",
    "\n",
    "jaccard_sv['SupportVector' +\"_similarity\"] = jaccard_score(rc_test, yhat, average = None)\n",
    "jaccard_sv['SupportVector' + \"_f1\"] = f1_score(rc_test, yhat, average='weighted')\n",
    "jaccard_sv['SupportVector' + \"_log_loss\"] = ''\n",
    "\n",
    "jaccard_sv['SupportVector' + \"_accuracy\"] = metrics.accuracy_score(rc_test, yhat)\n",
    "\n",
    "algorithm.append([jaccard_score(rc_test, yhat, average = None), f1_score(rc_test, yhat, average='weighted'),\n",
    "                  '', metrics.accuracy_score(rc_test, yhat)])\n",
    "\n",
    "\n",
    "jaccard_sv"
   ]
  },
  {
   "cell_type": "markdown",
   "metadata": {},
   "source": [
    "### Logistic Regression"
   ]
  },
  {
   "cell_type": "code",
   "execution_count": 61,
   "metadata": {},
   "outputs": [
    {
     "data": {
      "text/plain": [
       "[{'newton-cg_similarity': array([0.64300482, 0.63801537]),\n",
       "  'newton-cg_confusion': array([[933, 243],\n",
       "         [275, 913]], dtype=int64),\n",
       "  'newton-cg_loss': 0.5558432044099686},\n",
       " {'lbfgs_similarity': array([0.64300482, 0.63801537]),\n",
       "  'lbfgs_confusion': array([[933, 243],\n",
       "         [275, 913]], dtype=int64),\n",
       "  'lbfgs_loss': 0.555843450099969},\n",
       " {'liblinear_similarity': array([0.63125   , 0.63505155]),\n",
       "  'liblinear_confusion': array([[909, 267],\n",
       "         [264, 924]], dtype=int64),\n",
       "  'liblinear_loss': 0.5608788090151176},\n",
       " {'sag_similarity': array([0.64300482, 0.63801537]),\n",
       "  'sag_confusion': array([[933, 243],\n",
       "         [275, 913]], dtype=int64),\n",
       "  'sag_loss': 0.5558472051541017},\n",
       " {'saga_similarity': array([0.64300482, 0.63801537]),\n",
       "  'saga_confusion': array([[933, 243],\n",
       "         [275, 913]], dtype=int64),\n",
       "  'saga_loss': 0.5558371194057301}]"
      ]
     },
     "execution_count": 61,
     "metadata": {},
     "output_type": "execute_result"
    }
   ],
   "source": [
    "solvers = ['newton-cg', 'lbfgs', 'liblinear', 'sag', 'saga']\n",
    "jaccard = []\n",
    "for item in solvers:\n",
    "    LR = LogisticRegression(C=0.01, solver=item).fit(features_train, rc_train)\n",
    "    yhat = LR.predict(features_test)\n",
    "    yhat_prob = LR.predict_proba(features_test)\n",
    "    dict = {}\n",
    "    dict[item +\"_similarity\"] = jaccard_score(rc_test, yhat, average = None)\n",
    "    dict[item + \"_confusion\"] = confusion_matrix(rc_test, yhat)\n",
    "    dict[item + \"_loss\"] = log_loss(rc_test, yhat_prob)\n",
    "    jaccard.append(dict)\n",
    "\n",
    "jaccard"
   ]
  },
  {
   "cell_type": "code",
   "execution_count": 62,
   "metadata": {},
   "outputs": [
    {
     "name": "stdout",
     "output_type": "stream",
     "text": [
      "The least log loss was with 0.5558371194057301 with saga\n"
     ]
    }
   ],
   "source": [
    "print( \"The least log loss was with\", jaccard[4]['saga_loss'], \"with saga\") "
   ]
  },
  {
   "cell_type": "code",
   "execution_count": 63,
   "metadata": {},
   "outputs": [
    {
     "data": {
      "text/plain": [
       "{'LinearRegression_similarity': array([0.64300482, 0.63801537]),\n",
       " 'LinearRegression_f1': 0.7808547689888493,\n",
       " 'LinearRegression_log_loss': 0.5558390037043553,\n",
       " 'LinearRegression_accuracy': 0.7808798646362098}"
      ]
     },
     "execution_count": 63,
     "metadata": {},
     "output_type": "execute_result"
    }
   ],
   "source": [
    "jaccard_lr = {}\n",
    "\n",
    "LR = LogisticRegression(C=0.01, solver='saga').fit(features_train, rc_train)\n",
    "\n",
    "yhat = LR.predict(features_test)\n",
    "pred = LR.predict_proba(features_test)\n",
    "\n",
    "jaccard_lr['LinearRegression' +\"_similarity\"] = jaccard_score(rc_test, yhat, average = None)\n",
    "jaccard_lr['LinearRegression' + \"_f1\"] = f1_score(rc_test, yhat, average='weighted')\n",
    "jaccard_lr['LinearRegression' + \"_log_loss\"] = log_loss(rc_test, pred)\n",
    "jaccard_lr['LinearRegression' + \"_accuracy\"] = metrics.accuracy_score(rc_test, yhat)\n",
    "\n",
    "algorithm.append([jaccard_score(rc_test, yhat, average = None), f1_score(rc_test, yhat, average='weighted'),\n",
    "                  log_loss(rc_test, pred), metrics.accuracy_score(rc_test, yhat)])\n",
    "\n",
    "\n",
    "jaccard_lr"
   ]
  },
  {
   "cell_type": "markdown",
   "metadata": {},
   "source": [
    "### AdaBoost"
   ]
  },
  {
   "cell_type": "code",
   "execution_count": 64,
   "metadata": {},
   "outputs": [
    {
     "name": "stdout",
     "output_type": "stream",
     "text": [
      "{'AdaBoost_similarity': array([0.66689703, 0.65546819]), 'AdaBoost_f1': 0.7960031732485449, 'AdaBoost_log_loss': 0.6884062153489664, 'AdaBoost_accuracy': 0.7961082910321489}\n"
     ]
    }
   ],
   "source": [
    "jaccard_adaboost = {}\n",
    "\n",
    "# call model\n",
    "ada = AdaBoostClassifier(n_estimators=200, random_state=44)\n",
    "\n",
    "# train model\n",
    "ada.fit(features_train, rc_train)\n",
    "\n",
    "# make predictions\n",
    "yhat = ada.predict(features_test)\n",
    "pred = ada.predict_proba(features_test)\n",
    "\n",
    "jaccard_adaboost['AdaBoost' +\"_similarity\"] = jaccard_score(rc_test, yhat, average = None)\n",
    "jaccard_adaboost['AdaBoost' + \"_f1\"] = f1_score(rc_test, yhat, average='weighted')\n",
    "jaccard_adaboost['AdaBoost' + \"_log_loss\"] = log_loss(rc_test, pred)\n",
    "jaccard_adaboost['AdaBoost' + \"_accuracy\"] = metrics.accuracy_score(rc_test, yhat)\n",
    "\n",
    "algorithm.append([jaccard_score(rc_test, yhat, average = None), f1_score(rc_test, yhat, average='weighted'),\n",
    "                  log_loss(rc_test, pred), metrics.accuracy_score(rc_test, yhat)])\n",
    "\n",
    "print(jaccard_adaboost)"
   ]
  },
  {
   "cell_type": "markdown",
   "metadata": {},
   "source": [
    "### Random Forest"
   ]
  },
  {
   "cell_type": "code",
   "execution_count": 65,
   "metadata": {},
   "outputs": [
    {
     "name": "stdout",
     "output_type": "stream",
     "text": [
      "Feature: 0, Score: 0.54372\n",
      "Feature: 1, Score: 0.24332\n",
      "Feature: 2, Score: 0.17812\n",
      "Feature: 3, Score: 0.03484\n"
     ]
    },
    {
     "data": {
      "image/png": "[encoded data removed]",
      "text/plain": [
       "<Figure size 576x432 with 1 Axes>"
      ]
     },
     "metadata": {
      "needs_background": "light"
     },
     "output_type": "display_data"
    }
   ],
   "source": [
    "jacccard_rf ={}\n",
    "\n",
    "# call model\n",
    "rf = RandomForestClassifier(n_estimators=200, random_state=39)\n",
    "\n",
    "# train model\n",
    "rf.fit(features_train, rc_train)\n",
    "\n",
    "# make predictions\n",
    "yhat = rf.predict(features_test)\n",
    "\n",
    "pred = rf.predict_proba(features_test)\n",
    "\n",
    "importance = rf.feature_importances_\n",
    "# summarize feature importance\n",
    "\n",
    "for i,v in enumerate(importance):\n",
    "    \n",
    "\tprint('Feature: %0d, Score: %.5f' % (i,v))\n",
    "    \n",
    "\n",
    "jacccard_rf['RandomForest' +\"_similarity\"] = jaccard_score(rc_test, yhat, average = None)\n",
    "jacccard_rf['RandomForest' + \"_f1\"] = f1_score(rc_test, yhat, average='weighted')\n",
    "jacccard_rf['RandomForest' + \"_log_loss\"] = log_loss(rc_test, pred)\n",
    "jacccard_rf['RandomForest' + \"_accuracy\"] = metrics.accuracy_score(rc_test, yhat)\n",
    "\n",
    "# algorithm.append([jaccard_score(rc_test, yhat, average = None), f1_score(rc_test, yhat, average='weighted'),\n",
    "                  # log_loss(rc_test, pred), metrics.accuracy_score(rc_test, yhat)])\n",
    "                                                       \n",
    "# plot feature importance\n",
    "labels = ['TVD (m)','First 12 mo. Total GAS (e3m3)','First 12 mo. Total WTR (m3)', \n",
    "                          'Drilling Problems']\n",
    "plt.figure(figsize=(8,6))\n",
    "plt.bar([x for x in labels], importance, width = 0.3)\n",
    "plt.xticks(rotation=45)\n",
    "plt.show()"
   ]
  },
  {
   "cell_type": "markdown",
   "metadata": {},
   "source": [
    "Creating a table with all the results"
   ]
  },
  {
   "cell_type": "code",
   "execution_count": 66,
   "metadata": {},
   "outputs": [
    {
     "data": {
      "text/plain": [
       "[[array([0.77037618, 0.7878349 ]), 0.8758405319387031, '', 0.876057529610829],\n",
       " [array([0.65220386, 0.64361327]), 0.7863161244886487, '', 0.7863790186125211],\n",
       " [array([0.63793103, 0.63516331]), 0.7779087275422978, '', 0.7779187817258884],\n",
       " [array([0.64300482, 0.63801537]),\n",
       "  0.7808547689888493,\n",
       "  0.5558390037043553,\n",
       "  0.7808798646362098],\n",
       " [array([0.66689703, 0.65546819]),\n",
       "  0.7960031732485449,\n",
       "  0.6884062153489664,\n",
       "  0.7961082910321489]]"
      ]
     },
     "execution_count": 66,
     "metadata": {},
     "output_type": "execute_result"
    }
   ],
   "source": [
    "algorithm"
   ]
  },
  {
   "cell_type": "code",
   "execution_count": 67,
   "metadata": {},
   "outputs": [
    {
     "ename": "ValueError",
     "evalue": "Length of values does not match length of index",
     "output_type": "error",
     "traceback": [
      "\u001b[1;31m---------------------------------------------------------------------------\u001b[0m",
      "\u001b[1;31mValueError\u001b[0m                                Traceback (most recent call last)",
      "\u001b[1;32m<ipython-input-67-87311b59ee76>\u001b[0m in \u001b[0;36m<module>\u001b[1;34m\u001b[0m\n\u001b[0;32m      2\u001b[0m \u001b[1;33m\u001b[0m\u001b[0m\n\u001b[0;32m      3\u001b[0m \u001b[0mdf_algorithm\u001b[0m\u001b[1;33m.\u001b[0m\u001b[0mcolumns\u001b[0m \u001b[1;33m=\u001b[0m \u001b[1;33m[\u001b[0m\u001b[1;34m'Jaccard'\u001b[0m\u001b[1;33m,\u001b[0m\u001b[1;34m'F1-score'\u001b[0m\u001b[1;33m,\u001b[0m\u001b[1;34m'LogLoss'\u001b[0m\u001b[1;33m,\u001b[0m\u001b[1;34m'Accuracy'\u001b[0m\u001b[1;33m]\u001b[0m\u001b[1;33m\u001b[0m\u001b[1;33m\u001b[0m\u001b[0m\n\u001b[1;32m----> 4\u001b[1;33m \u001b[0mdf_algorithm\u001b[0m\u001b[1;33m[\u001b[0m\u001b[1;34m'Algorithm'\u001b[0m\u001b[1;33m]\u001b[0m \u001b[1;33m=\u001b[0m \u001b[1;33m[\u001b[0m\u001b[1;34m'KNN'\u001b[0m\u001b[1;33m,\u001b[0m \u001b[1;34m'Decision Tree'\u001b[0m\u001b[1;33m,\u001b[0m \u001b[1;34m'SVM'\u001b[0m\u001b[1;33m,\u001b[0m \u001b[1;34m'Logistic Regression'\u001b[0m\u001b[1;33m,\u001b[0m \u001b[1;34m'AdaBoost'\u001b[0m\u001b[1;33m,\u001b[0m \u001b[1;34m'Random Forest'\u001b[0m\u001b[1;33m]\u001b[0m\u001b[1;33m\u001b[0m\u001b[1;33m\u001b[0m\u001b[0m\n\u001b[0m\u001b[0;32m      5\u001b[0m \u001b[1;33m\u001b[0m\u001b[0m\n\u001b[0;32m      6\u001b[0m \u001b[1;33m\u001b[0m\u001b[0m\n",
      "\u001b[1;32m~\\Anaconda3\\lib\\site-packages\\pandas\\core\\frame.py\u001b[0m in \u001b[0;36m__setitem__\u001b[1;34m(self, key, value)\u001b[0m\n\u001b[0;32m   2936\u001b[0m         \u001b[1;32melse\u001b[0m\u001b[1;33m:\u001b[0m\u001b[1;33m\u001b[0m\u001b[1;33m\u001b[0m\u001b[0m\n\u001b[0;32m   2937\u001b[0m             \u001b[1;31m# set column\u001b[0m\u001b[1;33m\u001b[0m\u001b[1;33m\u001b[0m\u001b[1;33m\u001b[0m\u001b[0m\n\u001b[1;32m-> 2938\u001b[1;33m             \u001b[0mself\u001b[0m\u001b[1;33m.\u001b[0m\u001b[0m_set_item\u001b[0m\u001b[1;33m(\u001b[0m\u001b[0mkey\u001b[0m\u001b[1;33m,\u001b[0m \u001b[0mvalue\u001b[0m\u001b[1;33m)\u001b[0m\u001b[1;33m\u001b[0m\u001b[1;33m\u001b[0m\u001b[0m\n\u001b[0m\u001b[0;32m   2939\u001b[0m \u001b[1;33m\u001b[0m\u001b[0m\n\u001b[0;32m   2940\u001b[0m     \u001b[1;32mdef\u001b[0m \u001b[0m_setitem_slice\u001b[0m\u001b[1;33m(\u001b[0m\u001b[0mself\u001b[0m\u001b[1;33m,\u001b[0m \u001b[0mkey\u001b[0m\u001b[1;33m,\u001b[0m \u001b[0mvalue\u001b[0m\u001b[1;33m)\u001b[0m\u001b[1;33m:\u001b[0m\u001b[1;33m\u001b[0m\u001b[1;33m\u001b[0m\u001b[0m\n",
      "\u001b[1;32m~\\Anaconda3\\lib\\site-packages\\pandas\\core\\frame.py\u001b[0m in \u001b[0;36m_set_item\u001b[1;34m(self, key, value)\u001b[0m\n\u001b[0;32m   2998\u001b[0m \u001b[1;33m\u001b[0m\u001b[0m\n\u001b[0;32m   2999\u001b[0m         \u001b[0mself\u001b[0m\u001b[1;33m.\u001b[0m\u001b[0m_ensure_valid_index\u001b[0m\u001b[1;33m(\u001b[0m\u001b[0mvalue\u001b[0m\u001b[1;33m)\u001b[0m\u001b[1;33m\u001b[0m\u001b[1;33m\u001b[0m\u001b[0m\n\u001b[1;32m-> 3000\u001b[1;33m         \u001b[0mvalue\u001b[0m \u001b[1;33m=\u001b[0m \u001b[0mself\u001b[0m\u001b[1;33m.\u001b[0m\u001b[0m_sanitize_column\u001b[0m\u001b[1;33m(\u001b[0m\u001b[0mkey\u001b[0m\u001b[1;33m,\u001b[0m \u001b[0mvalue\u001b[0m\u001b[1;33m)\u001b[0m\u001b[1;33m\u001b[0m\u001b[1;33m\u001b[0m\u001b[0m\n\u001b[0m\u001b[0;32m   3001\u001b[0m         \u001b[0mNDFrame\u001b[0m\u001b[1;33m.\u001b[0m\u001b[0m_set_item\u001b[0m\u001b[1;33m(\u001b[0m\u001b[0mself\u001b[0m\u001b[1;33m,\u001b[0m \u001b[0mkey\u001b[0m\u001b[1;33m,\u001b[0m \u001b[0mvalue\u001b[0m\u001b[1;33m)\u001b[0m\u001b[1;33m\u001b[0m\u001b[1;33m\u001b[0m\u001b[0m\n\u001b[0;32m   3002\u001b[0m \u001b[1;33m\u001b[0m\u001b[0m\n",
      "\u001b[1;32m~\\Anaconda3\\lib\\site-packages\\pandas\\core\\frame.py\u001b[0m in \u001b[0;36m_sanitize_column\u001b[1;34m(self, key, value, broadcast)\u001b[0m\n\u001b[0;32m   3634\u001b[0m \u001b[1;33m\u001b[0m\u001b[0m\n\u001b[0;32m   3635\u001b[0m             \u001b[1;31m# turn me into an ndarray\u001b[0m\u001b[1;33m\u001b[0m\u001b[1;33m\u001b[0m\u001b[1;33m\u001b[0m\u001b[0m\n\u001b[1;32m-> 3636\u001b[1;33m             \u001b[0mvalue\u001b[0m \u001b[1;33m=\u001b[0m \u001b[0msanitize_index\u001b[0m\u001b[1;33m(\u001b[0m\u001b[0mvalue\u001b[0m\u001b[1;33m,\u001b[0m \u001b[0mself\u001b[0m\u001b[1;33m.\u001b[0m\u001b[0mindex\u001b[0m\u001b[1;33m,\u001b[0m \u001b[0mcopy\u001b[0m\u001b[1;33m=\u001b[0m\u001b[1;32mFalse\u001b[0m\u001b[1;33m)\u001b[0m\u001b[1;33m\u001b[0m\u001b[1;33m\u001b[0m\u001b[0m\n\u001b[0m\u001b[0;32m   3637\u001b[0m             \u001b[1;32mif\u001b[0m \u001b[1;32mnot\u001b[0m \u001b[0misinstance\u001b[0m\u001b[1;33m(\u001b[0m\u001b[0mvalue\u001b[0m\u001b[1;33m,\u001b[0m \u001b[1;33m(\u001b[0m\u001b[0mnp\u001b[0m\u001b[1;33m.\u001b[0m\u001b[0mndarray\u001b[0m\u001b[1;33m,\u001b[0m \u001b[0mIndex\u001b[0m\u001b[1;33m)\u001b[0m\u001b[1;33m)\u001b[0m\u001b[1;33m:\u001b[0m\u001b[1;33m\u001b[0m\u001b[1;33m\u001b[0m\u001b[0m\n\u001b[0;32m   3638\u001b[0m                 \u001b[1;32mif\u001b[0m \u001b[0misinstance\u001b[0m\u001b[1;33m(\u001b[0m\u001b[0mvalue\u001b[0m\u001b[1;33m,\u001b[0m \u001b[0mlist\u001b[0m\u001b[1;33m)\u001b[0m \u001b[1;32mand\u001b[0m \u001b[0mlen\u001b[0m\u001b[1;33m(\u001b[0m\u001b[0mvalue\u001b[0m\u001b[1;33m)\u001b[0m \u001b[1;33m>\u001b[0m \u001b[1;36m0\u001b[0m\u001b[1;33m:\u001b[0m\u001b[1;33m\u001b[0m\u001b[1;33m\u001b[0m\u001b[0m\n",
      "\u001b[1;32m~\\Anaconda3\\lib\\site-packages\\pandas\\core\\internals\\construction.py\u001b[0m in \u001b[0;36msanitize_index\u001b[1;34m(data, index, copy)\u001b[0m\n\u001b[0;32m    609\u001b[0m \u001b[1;33m\u001b[0m\u001b[0m\n\u001b[0;32m    610\u001b[0m     \u001b[1;32mif\u001b[0m \u001b[0mlen\u001b[0m\u001b[1;33m(\u001b[0m\u001b[0mdata\u001b[0m\u001b[1;33m)\u001b[0m \u001b[1;33m!=\u001b[0m \u001b[0mlen\u001b[0m\u001b[1;33m(\u001b[0m\u001b[0mindex\u001b[0m\u001b[1;33m)\u001b[0m\u001b[1;33m:\u001b[0m\u001b[1;33m\u001b[0m\u001b[1;33m\u001b[0m\u001b[0m\n\u001b[1;32m--> 611\u001b[1;33m         \u001b[1;32mraise\u001b[0m \u001b[0mValueError\u001b[0m\u001b[1;33m(\u001b[0m\u001b[1;34m\"Length of values does not match length of index\"\u001b[0m\u001b[1;33m)\u001b[0m\u001b[1;33m\u001b[0m\u001b[1;33m\u001b[0m\u001b[0m\n\u001b[0m\u001b[0;32m    612\u001b[0m \u001b[1;33m\u001b[0m\u001b[0m\n\u001b[0;32m    613\u001b[0m     \u001b[1;32mif\u001b[0m \u001b[0misinstance\u001b[0m\u001b[1;33m(\u001b[0m\u001b[0mdata\u001b[0m\u001b[1;33m,\u001b[0m \u001b[0mABCIndexClass\u001b[0m\u001b[1;33m)\u001b[0m \u001b[1;32mand\u001b[0m \u001b[1;32mnot\u001b[0m \u001b[0mcopy\u001b[0m\u001b[1;33m:\u001b[0m\u001b[1;33m\u001b[0m\u001b[1;33m\u001b[0m\u001b[0m\n",
      "\u001b[1;31mValueError\u001b[0m: Length of values does not match length of index"
     ]
    }
   ],
   "source": [
    "df_algorithm = pd.DataFrame(algorithm)\n",
    "\n",
    "df_algorithm.columns = ['Jaccard','F1-score','LogLoss','Accuracy']\n",
    "df_algorithm['Algorithm'] = ['KNN', 'Decision Tree', 'SVM', 'Logistic Regression', 'AdaBoost', 'Random Forest']\n",
    "\n",
    "\n",
    "# moving 'Algorithm' to the first column\n",
    "\n",
    "algorith_col = df_algorithm['Algorithm']\n",
    "df_algorithm.drop(labels=['Algorithm'], axis=1,inplace = True)\n",
    "df_algorithm.insert(0, 'Algorithm', algorith_col)\n",
    "# if we want to drop Jaccard\n",
    "\n",
    "df_algorithm.drop(labels=['Jaccard'], axis=1,inplace = True)\n",
    "\n",
    "\n",
    "df_algorithm.set_index(['Algorithm'])\n"
   ]
  },
  {
   "cell_type": "code",
   "execution_count": null,
   "metadata": {},
   "outputs": [],
   "source": [
    "f1score = df_algorithm['F1-score'].to_list()\n",
    "f1score"
   ]
  },
  {
   "cell_type": "code",
   "execution_count": null,
   "metadata": {},
   "outputs": [],
   "source": [
    "plt.figure(figsize=(20,16))\n",
    "plt.subplot(3,3,1)\n",
    "models =['KNN', 'Decision Tree', 'SVM', 'Logsitic Regression', 'AdaBoost', 'Random Forest']\n",
    "f1score = df_algorithm['F1-score'].to_list()\n",
    "plt.bar(models,f1score)\n",
    "plt.xticks(rotation=45)\n",
    "plt.xlabel('F1 Score for Six Predictors')\n",
    "\n",
    "plt.subplot(3,3,2)\n",
    "models =['KNN', 'Decision Tree', 'SVM', 'Logsitic Regression', 'AdaBoost', 'Random Forest']\n",
    "accuracy = df_algorithm['Accuracy'].to_list()\n",
    "plt.bar(models,accuracy)\n",
    "plt.xticks(rotation=45)\n",
    "plt.xlabel('Accuracy for Six Predictors')\n",
    "\n",
    "plt.subplot(3,3,3)\n",
    "models =['KNN', 'Decision Tree', 'SVM', 'Logsitic Regression', 'AdaBoost', 'Random Forest']\n",
    "log_loss = [0,0,0,0.555844,0.688406,0.260926]\n",
    "plt.bar(models,log_loss)\n",
    "plt.xticks(rotation=45)\n",
    "plt.xlabel('Log Loss for Six Predictors')"
   ]
  },
  {
   "cell_type": "markdown",
   "metadata": {},
   "source": [
    "Plotting the ROC curve "
   ]
  },
  {
   "cell_type": "code",
   "execution_count": 77,
   "metadata": {},
   "outputs": [
    {
     "name": "stdout",
     "output_type": "stream",
     "text": [
      "Logistic: ROC AUC=0.926\n",
      "Logistic: ROC AUC=0.841\n",
      "Logistic: ROC AUC=0.967\n",
      "Logistic: ROC AUC=0.883\n"
     ]
    },
    {
     "data": {
      "image/png": "[encoded data removed]",
      "text/plain": [
       "<Figure size 432x288 with 1 Axes>"
      ]
     },
     "metadata": {
      "needs_background": "light"
     },
     "output_type": "display_data"
    }
   ],
   "source": [
    "# call model\n",
    "rf = RandomForestClassifier(n_estimators=200, random_state=39)\n",
    "ada = AdaBoostClassifier(n_estimators=200, random_state=44)\n",
    "lr = LogisticRegression(C=0.01, solver='saga').fit(features_train, rc_train)\n",
    "neigh = KNeighborsClassifier(n_neighbors = 3).fit(features_train, rc_train)\n",
    "\n",
    "\n",
    "\n",
    "# train model\n",
    "rf.fit(features_train, rc_train)\n",
    "ada.fit(features_train, rc_train)\n",
    "\n",
    "# make predictions\n",
    "yhat_rf = rf.predict(features_test)\n",
    "yhat_ada = ada.predict(features_test)\n",
    "yhat_lr = lr.predict(features_test)\n",
    "yhat_knn = neigh.predict(features_test)\n",
    "\n",
    "knn_probs = neigh.predict_proba(features_test)\n",
    "lr_probs = lr.predict_proba(features_test)\n",
    "ada_probs = ada.predict_proba(features_test)\n",
    "rf_probs = rf.predict_proba(features_test)\n",
    "\n",
    "# keep probabilities for the positive outcome only\n",
    "knn_probs = knn_probs[:, 1]\n",
    "lr_probs = lr_probs[:, 1]\n",
    "rf_probs = rf_probs[:, 1]\n",
    "ada_probs = ada_probs[:, 1]\n",
    "# calculate scores\n",
    "knn_auc = roc_auc_score(rc_test, knn_probs)\n",
    "lr_auc = roc_auc_score(rc_test, lr_probs)\n",
    "rf_auc = roc_auc_score(rc_test, rf_probs)\n",
    "ada_auc = roc_auc_score(rc_test, ada_probs)\n",
    "\n",
    "# summarize scores\n",
    "print('Logistic: ROC AUC=%.3f' % (knn_auc))\n",
    "print('Logistic: ROC AUC=%.3f' % (lr_auc))\n",
    "print('Logistic: ROC AUC=%.3f' % (rf_auc))\n",
    "print('Logistic: ROC AUC=%.3f' % (ada_auc))\n",
    "# calculate roc curves\n",
    "knn_fpr, knn_tpr, _ = roc_curve(rc_test, knn_probs)\n",
    "lr_fpr, lr_tpr, _ = roc_curve(rc_test, lr_probs)\n",
    "ada_fpr, ada_tpr, _ = roc_curve(rc_test, ada_probs)\n",
    "rf_fpr, rf_tpr, _ = roc_curve(rc_test, rf_probs)\n",
    "# plot the roc curve for the model\n",
    "pyplot.plot(knn_fpr, knn_tpr, linestyle='-.', label='KNN')\n",
    "pyplot.plot(lr_fpr, lr_tpr, linestyle='-', label='Linear Regression')\n",
    "pyplot.plot(ada_fpr, ada_tpr, linestyle='--', label='AdaBoost')\n",
    "pyplot.plot(rf_fpr, rf_tpr, marker='.', label='Random Forest')\n",
    "# axis labels\n",
    "pyplot.xlabel('False Positive Rate')\n",
    "pyplot.ylabel('True Positive Rate')\n",
    "# show the legend\n",
    "pyplot.legend()\n",
    "# show the plot\n",
    "pyplot.show()"
   ]
  }
 ],
 "metadata": {
  "kernelspec": {
   "display_name": "Python 3",
   "language": "python",
   "name": "python3"
  },
  "language_info": {
   "codemirror_mode": {
    "name": "ipython",
    "version": 3
   },
   "file_extension": ".py",
   "mimetype": "text/x-python",
   "name": "python",
   "nbconvert_exporter": "python",
   "pygments_lexer": "ipython3",
   "version": "3.7.6"
  }
 },
 "nbformat": 4,
 "nbformat_minor": 4
}
